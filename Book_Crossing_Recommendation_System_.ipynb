{
 "cells": [
  {
   "cell_type": "markdown",
   "metadata": {
    "id": "pWi6ThZbhUaR",
    "papermill": {
     "duration": 0.009676,
     "end_time": "2020-09-05T16:56:18.675741",
     "exception": false,
     "start_time": "2020-09-05T16:56:18.666065",
     "status": "completed"
    },
    "tags": []
   },
   "source": [
    "# Book-Crossing Similarity Based Recommender System\n",
    "\n",
    "### Objective: \n",
    ">To construct a recommender system based on the similarity between Users/Readers who have bought/read a specific book to those Users/Readers who have bought/read the books other than the specified book and sort them by Jaccard Similarity.\n",
    "\n",
    "### Segments:\n",
    ">1. Data Preprocessing\n",
    "2. Data Visualization\n",
    "3. Similarity-based Recommender System"
   ]
  },
  {
   "cell_type": "markdown",
   "metadata": {
    "id": "L7zDzVUIEjHz"
   },
   "source": [
    "## About the Dataset\n",
    "For this project, I have used three datasets from Kaggle's [Book-Crossing: User review ratings](https://https://www.kaggle.com/ruchi798/bookcrossing-dataset) \n",
    "\n",
    "It was prepared by [Ruchi Bhatia](https://https://www.kaggle.com/ruchi798), a Datasets Grandmaster and a Notebooks Expert at Kaagle and professionally **Data Science Global Ambassador at HP & NVIDIA, Mumbai, India**\n",
    "\n",
    "This dataset contains 278,858 users (anonymized but with demographic information) providing 1,149,780 ratings (explicit / implicit) about 271,379 books. \n",
    "\n",
    "The datasets contained in it are:\n",
    "- Book-Ratings: It contains 1,149,779 data elements which provides the rating value of each Book read by each User. The rating is provided on a scale of Integers from 0 to 10.\n",
    "- Books: It contains 271,379 Registered Books and their details in the form of ISBN, Book-Title, Book-Author, Year Of Publication, Publisher and different Cover Page Image Links for each book.\n",
    "- Users: It contains 278,858 unique users/Readers who have read and rated any book they have read. It also contains the Age and Location of the User."
   ]
  },
  {
   "cell_type": "markdown",
   "metadata": {
    "id": "0QmSCpJEq10T"
   },
   "source": [
    "# Data Preprocessing\n",
    "\n",
    "In this segment, I did the following processes:\n",
    "* Imported the required Libraries\n",
    "* Read the .csv files present in my Google Drive\n",
    "* Removed the Image columns from the Books dataset and merged all the 3 `pandas DataFrames` together to form a single DataFrame containing 1031136 data elements and 9 features\n",
    "* Cleaned the dataset:\n",
    "    - Null Values - I `dropped` all the rows containing null values\n",
    "    - Data Types - I `converted` the data types of the UserID and Age features to `int` type from `object` type\n",
    "    - Location feature - I split the Location feature of the DataFrame into `city`, `states` and `country` features for better usability"
   ]
  },
  {
   "cell_type": "markdown",
   "metadata": {
    "id": "NFXBvAZHhUaX",
    "papermill": {
     "duration": 0.007303,
     "end_time": "2020-09-05T16:56:18.724079",
     "exception": false,
     "start_time": "2020-09-05T16:56:18.716776",
     "status": "completed"
    },
    "tags": []
   },
   "source": [
    "## Imports"
   ]
  },
  {
   "cell_type": "code",
   "execution_count": 1,
   "metadata": {
    "_cell_guid": "b1076dfc-b9ad-4769-8c92-a6c4dae69d19",
    "_kg_hide-input": true,
    "_kg_hide-output": true,
    "_uuid": "8f2839f25d086af736a60e9eeb907d3b93b6e0e5",
    "colab": {
     "base_uri": "https://localhost:8080/",
     "height": 0
    },
    "execution": {
     "iopub.execute_input": "2020-09-05T16:56:18.699295Z",
     "iopub.status.busy": "2020-09-05T16:56:18.698342Z",
     "iopub.status.idle": "2020-09-05T16:56:18.708193Z",
     "shell.execute_reply": "2020-09-05T16:56:18.708953Z"
    },
    "id": "C4v9slJjhUaS",
    "outputId": "288c29ee-2fd2-4531-af98-2d097f8a1c5a",
    "papermill": {
     "duration": 0.025674,
     "end_time": "2020-09-05T16:56:18.709150",
     "exception": false,
     "start_time": "2020-09-05T16:56:18.683476",
     "status": "completed"
    },
    "tags": []
   },
   "outputs": [
    {
     "name": "stdout",
     "output_type": "stream",
     "text": [
      "Mounted at /content/drive\n"
     ]
    }
   ],
   "source": [
    "import numpy as np # linear algebra and numerical operations\n",
    "import pandas as pd # data processing, CSV file I/O (e.g. pd.read_csv)\n",
    "import random\n",
    "from collections import defaultdict\n",
    "\n",
    "import seaborn as sns\n",
    "import matplotlib.pyplot as plt\n",
    "\n",
    "from google.colab import drive\n",
    "drive.mount('/content/drive')"
   ]
  },
  {
   "cell_type": "markdown",
   "metadata": {
    "id": "WqtL6VSqhUaa",
    "papermill": {
     "duration": 0.007549,
     "end_time": "2020-09-05T16:56:20.934436",
     "exception": false,
     "start_time": "2020-09-05T16:56:20.926887",
     "status": "completed"
    },
    "tags": []
   },
   "source": [
    "## Reading csv files"
   ]
  },
  {
   "cell_type": "code",
   "execution_count": 2,
   "metadata": {
    "colab": {
     "base_uri": "https://localhost:8080/",
     "height": 0
    },
    "execution": {
     "iopub.execute_input": "2020-09-05T16:56:20.960926Z",
     "iopub.status.busy": "2020-09-05T16:56:20.960023Z",
     "iopub.status.idle": "2020-09-05T16:56:26.750797Z",
     "shell.execute_reply": "2020-09-05T16:56:26.753180Z"
    },
    "id": "SXbb4ktFhUab",
    "outputId": "d17f63c7-6468-4529-a5e7-67c79a268b10",
    "papermill": {
     "duration": 5.811641,
     "end_time": "2020-09-05T16:56:26.753853",
     "exception": false,
     "start_time": "2020-09-05T16:56:20.942212",
     "status": "completed"
    },
    "tags": []
   },
   "outputs": [
    {
     "name": "stderr",
     "output_type": "stream",
     "text": [
      "b'Skipping line 6452: expected 8 fields, saw 9\\nSkipping line 43667: expected 8 fields, saw 10\\nSkipping line 51751: expected 8 fields, saw 9\\nSkipping line 92038: expected 8 fields, saw 9\\nSkipping line 104319: expected 8 fields, saw 9\\nSkipping line 121768: expected 8 fields, saw 9\\nSkipping line 144058: expected 8 fields, saw 9\\nSkipping line 150789: expected 8 fields, saw 9\\nSkipping line 157128: expected 8 fields, saw 9\\nSkipping line 180189: expected 8 fields, saw 9\\nSkipping line 185738: expected 8 fields, saw 9\\nSkipping line 209388: expected 8 fields, saw 9\\nSkipping line 220626: expected 8 fields, saw 9\\nSkipping line 227933: expected 8 fields, saw 11\\nSkipping line 228957: expected 8 fields, saw 10\\nSkipping line 245933: expected 8 fields, saw 9\\nSkipping line 251296: expected 8 fields, saw 9\\nSkipping line 259941: expected 8 fields, saw 9\\nSkipping line 261529: expected 8 fields, saw 9\\n'\n"
     ]
    }
   ],
   "source": [
    "#Users\n",
    "users = pd.read_csv('/content/drive/My Drive/Colab Notebooks/Dataset/Book reviews/BX-Users.csv', \n",
    "                    sep=';', error_bad_lines=False, encoding='latin-1',low_memory=False)\n",
    "\n",
    "#Books\n",
    "items = pd.read_csv('/content/drive/My Drive/Colab Notebooks/Dataset/Book reviews/BX-Books.csv', \n",
    "                    sep=';', error_bad_lines=False, encoding='latin-1',low_memory=False)\n",
    "\n",
    "#Ratings\n",
    "ratings = pd.read_csv('/content/drive/My Drive/Colab Notebooks/Dataset/Book reviews/BX-Book-Ratings.csv', \n",
    "                      sep=';', error_bad_lines=False, encoding='latin-1',low_memory=False)"
   ]
  },
  {
   "cell_type": "code",
   "execution_count": 3,
   "metadata": {
    "colab": {
     "base_uri": "https://localhost:8080/",
     "height": 0
    },
    "execution": {
     "iopub.execute_input": "2020-09-05T16:56:26.818249Z",
     "iopub.status.busy": "2020-09-05T16:56:26.817422Z",
     "iopub.status.idle": "2020-09-05T16:56:26.829438Z",
     "shell.execute_reply": "2020-09-05T16:56:26.828615Z"
    },
    "id": "pQYdFlJ-hUad",
    "outputId": "9e337a69-1249-424d-f88b-3875c88e17b6",
    "papermill": {
     "duration": 0.041643,
     "end_time": "2020-09-05T16:56:26.829582",
     "exception": false,
     "start_time": "2020-09-05T16:56:26.787939",
     "status": "completed"
    },
    "tags": []
   },
   "outputs": [
    {
     "data": {
      "text/html": [
       "<div>\n",
       "<style scoped>\n",
       "    .dataframe tbody tr th:only-of-type {\n",
       "        vertical-align: middle;\n",
       "    }\n",
       "\n",
       "    .dataframe tbody tr th {\n",
       "        vertical-align: top;\n",
       "    }\n",
       "\n",
       "    .dataframe thead th {\n",
       "        text-align: right;\n",
       "    }\n",
       "</style>\n",
       "<table border=\"1\" class=\"dataframe\">\n",
       "  <thead>\n",
       "    <tr style=\"text-align: right;\">\n",
       "      <th></th>\n",
       "      <th>User-ID</th>\n",
       "      <th>Location</th>\n",
       "      <th>Age</th>\n",
       "    </tr>\n",
       "  </thead>\n",
       "  <tbody>\n",
       "    <tr>\n",
       "      <th>0</th>\n",
       "      <td>1</td>\n",
       "      <td>nyc, new york, usa</td>\n",
       "      <td>NaN</td>\n",
       "    </tr>\n",
       "    <tr>\n",
       "      <th>1</th>\n",
       "      <td>2</td>\n",
       "      <td>stockton, california, usa</td>\n",
       "      <td>18.0</td>\n",
       "    </tr>\n",
       "    <tr>\n",
       "      <th>2</th>\n",
       "      <td>3</td>\n",
       "      <td>moscow, yukon territory, russia</td>\n",
       "      <td>NaN</td>\n",
       "    </tr>\n",
       "    <tr>\n",
       "      <th>3</th>\n",
       "      <td>4</td>\n",
       "      <td>porto, v.n.gaia, portugal</td>\n",
       "      <td>17.0</td>\n",
       "    </tr>\n",
       "    <tr>\n",
       "      <th>4</th>\n",
       "      <td>5</td>\n",
       "      <td>farnborough, hants, united kingdom</td>\n",
       "      <td>NaN</td>\n",
       "    </tr>\n",
       "  </tbody>\n",
       "</table>\n",
       "</div>"
      ],
      "text/plain": [
       "   User-ID                            Location   Age\n",
       "0        1                  nyc, new york, usa   NaN\n",
       "1        2           stockton, california, usa  18.0\n",
       "2        3     moscow, yukon territory, russia   NaN\n",
       "3        4           porto, v.n.gaia, portugal  17.0\n",
       "4        5  farnborough, hants, united kingdom   NaN"
      ]
     },
     "execution_count": 3,
     "metadata": {
      "tags": []
     },
     "output_type": "execute_result"
    }
   ],
   "source": [
    "users.head(5)"
   ]
  },
  {
   "cell_type": "code",
   "execution_count": 4,
   "metadata": {
    "colab": {
     "base_uri": "https://localhost:8080/",
     "height": 0
    },
    "execution": {
     "iopub.execute_input": "2020-09-05T16:56:26.864332Z",
     "iopub.status.busy": "2020-09-05T16:56:26.863206Z",
     "iopub.status.idle": "2020-09-05T16:56:26.869512Z",
     "shell.execute_reply": "2020-09-05T16:56:26.868327Z"
    },
    "id": "QsHseIlrhUag",
    "outputId": "6251a8f1-9b71-48f9-f5f7-f8c66e7a71ea",
    "papermill": {
     "duration": 0.031782,
     "end_time": "2020-09-05T16:56:26.869700",
     "exception": false,
     "start_time": "2020-09-05T16:56:26.837918",
     "status": "completed"
    },
    "tags": []
   },
   "outputs": [
    {
     "data": {
      "text/html": [
       "<div>\n",
       "<style scoped>\n",
       "    .dataframe tbody tr th:only-of-type {\n",
       "        vertical-align: middle;\n",
       "    }\n",
       "\n",
       "    .dataframe tbody tr th {\n",
       "        vertical-align: top;\n",
       "    }\n",
       "\n",
       "    .dataframe thead th {\n",
       "        text-align: right;\n",
       "    }\n",
       "</style>\n",
       "<table border=\"1\" class=\"dataframe\">\n",
       "  <thead>\n",
       "    <tr style=\"text-align: right;\">\n",
       "      <th></th>\n",
       "      <th>ISBN</th>\n",
       "      <th>Book-Title</th>\n",
       "      <th>Book-Author</th>\n",
       "      <th>Year-Of-Publication</th>\n",
       "      <th>Publisher</th>\n",
       "      <th>Image-URL-S</th>\n",
       "      <th>Image-URL-M</th>\n",
       "      <th>Image-URL-L</th>\n",
       "    </tr>\n",
       "  </thead>\n",
       "  <tbody>\n",
       "    <tr>\n",
       "      <th>0</th>\n",
       "      <td>0195153448</td>\n",
       "      <td>Classical Mythology</td>\n",
       "      <td>Mark P. O. Morford</td>\n",
       "      <td>2002</td>\n",
       "      <td>Oxford University Press</td>\n",
       "      <td>http://images.amazon.com/images/P/0195153448.0...</td>\n",
       "      <td>http://images.amazon.com/images/P/0195153448.0...</td>\n",
       "      <td>http://images.amazon.com/images/P/0195153448.0...</td>\n",
       "    </tr>\n",
       "    <tr>\n",
       "      <th>1</th>\n",
       "      <td>0002005018</td>\n",
       "      <td>Clara Callan</td>\n",
       "      <td>Richard Bruce Wright</td>\n",
       "      <td>2001</td>\n",
       "      <td>HarperFlamingo Canada</td>\n",
       "      <td>http://images.amazon.com/images/P/0002005018.0...</td>\n",
       "      <td>http://images.amazon.com/images/P/0002005018.0...</td>\n",
       "      <td>http://images.amazon.com/images/P/0002005018.0...</td>\n",
       "    </tr>\n",
       "    <tr>\n",
       "      <th>2</th>\n",
       "      <td>0060973129</td>\n",
       "      <td>Decision in Normandy</td>\n",
       "      <td>Carlo D'Este</td>\n",
       "      <td>1991</td>\n",
       "      <td>HarperPerennial</td>\n",
       "      <td>http://images.amazon.com/images/P/0060973129.0...</td>\n",
       "      <td>http://images.amazon.com/images/P/0060973129.0...</td>\n",
       "      <td>http://images.amazon.com/images/P/0060973129.0...</td>\n",
       "    </tr>\n",
       "    <tr>\n",
       "      <th>3</th>\n",
       "      <td>0374157065</td>\n",
       "      <td>Flu: The Story of the Great Influenza Pandemic...</td>\n",
       "      <td>Gina Bari Kolata</td>\n",
       "      <td>1999</td>\n",
       "      <td>Farrar Straus Giroux</td>\n",
       "      <td>http://images.amazon.com/images/P/0374157065.0...</td>\n",
       "      <td>http://images.amazon.com/images/P/0374157065.0...</td>\n",
       "      <td>http://images.amazon.com/images/P/0374157065.0...</td>\n",
       "    </tr>\n",
       "    <tr>\n",
       "      <th>4</th>\n",
       "      <td>0393045218</td>\n",
       "      <td>The Mummies of Urumchi</td>\n",
       "      <td>E. J. W. Barber</td>\n",
       "      <td>1999</td>\n",
       "      <td>W. W. Norton &amp;amp; Company</td>\n",
       "      <td>http://images.amazon.com/images/P/0393045218.0...</td>\n",
       "      <td>http://images.amazon.com/images/P/0393045218.0...</td>\n",
       "      <td>http://images.amazon.com/images/P/0393045218.0...</td>\n",
       "    </tr>\n",
       "  </tbody>\n",
       "</table>\n",
       "</div>"
      ],
      "text/plain": [
       "         ISBN  ...                                        Image-URL-L\n",
       "0  0195153448  ...  http://images.amazon.com/images/P/0195153448.0...\n",
       "1  0002005018  ...  http://images.amazon.com/images/P/0002005018.0...\n",
       "2  0060973129  ...  http://images.amazon.com/images/P/0060973129.0...\n",
       "3  0374157065  ...  http://images.amazon.com/images/P/0374157065.0...\n",
       "4  0393045218  ...  http://images.amazon.com/images/P/0393045218.0...\n",
       "\n",
       "[5 rows x 8 columns]"
      ]
     },
     "execution_count": 4,
     "metadata": {
      "tags": []
     },
     "output_type": "execute_result"
    }
   ],
   "source": [
    "items.head(5)"
   ]
  },
  {
   "cell_type": "code",
   "execution_count": 5,
   "metadata": {
    "colab": {
     "base_uri": "https://localhost:8080/",
     "height": 0
    },
    "execution": {
     "iopub.execute_input": "2020-09-05T16:56:26.902837Z",
     "iopub.status.busy": "2020-09-05T16:56:26.901538Z",
     "iopub.status.idle": "2020-09-05T16:56:26.906793Z",
     "shell.execute_reply": "2020-09-05T16:56:26.906175Z"
    },
    "id": "G4eQegJkhUai",
    "outputId": "39edb0a6-0873-423a-d04a-db957c5a4856",
    "papermill": {
     "duration": 0.028393,
     "end_time": "2020-09-05T16:56:26.906936",
     "exception": false,
     "start_time": "2020-09-05T16:56:26.878543",
     "status": "completed"
    },
    "tags": []
   },
   "outputs": [
    {
     "data": {
      "text/html": [
       "<div>\n",
       "<style scoped>\n",
       "    .dataframe tbody tr th:only-of-type {\n",
       "        vertical-align: middle;\n",
       "    }\n",
       "\n",
       "    .dataframe tbody tr th {\n",
       "        vertical-align: top;\n",
       "    }\n",
       "\n",
       "    .dataframe thead th {\n",
       "        text-align: right;\n",
       "    }\n",
       "</style>\n",
       "<table border=\"1\" class=\"dataframe\">\n",
       "  <thead>\n",
       "    <tr style=\"text-align: right;\">\n",
       "      <th></th>\n",
       "      <th>User-ID</th>\n",
       "      <th>ISBN</th>\n",
       "      <th>Book-Rating</th>\n",
       "    </tr>\n",
       "  </thead>\n",
       "  <tbody>\n",
       "    <tr>\n",
       "      <th>0</th>\n",
       "      <td>276725</td>\n",
       "      <td>034545104X</td>\n",
       "      <td>0</td>\n",
       "    </tr>\n",
       "    <tr>\n",
       "      <th>1</th>\n",
       "      <td>276726</td>\n",
       "      <td>0155061224</td>\n",
       "      <td>5</td>\n",
       "    </tr>\n",
       "    <tr>\n",
       "      <th>2</th>\n",
       "      <td>276727</td>\n",
       "      <td>0446520802</td>\n",
       "      <td>0</td>\n",
       "    </tr>\n",
       "    <tr>\n",
       "      <th>3</th>\n",
       "      <td>276729</td>\n",
       "      <td>052165615X</td>\n",
       "      <td>3</td>\n",
       "    </tr>\n",
       "    <tr>\n",
       "      <th>4</th>\n",
       "      <td>276729</td>\n",
       "      <td>0521795028</td>\n",
       "      <td>6</td>\n",
       "    </tr>\n",
       "  </tbody>\n",
       "</table>\n",
       "</div>"
      ],
      "text/plain": [
       "   User-ID        ISBN  Book-Rating\n",
       "0   276725  034545104X            0\n",
       "1   276726  0155061224            5\n",
       "2   276727  0446520802            0\n",
       "3   276729  052165615X            3\n",
       "4   276729  0521795028            6"
      ]
     },
     "execution_count": 5,
     "metadata": {
      "tags": []
     },
     "output_type": "execute_result"
    }
   ],
   "source": [
    "ratings.head(5)"
   ]
  },
  {
   "cell_type": "code",
   "execution_count": 6,
   "metadata": {
    "colab": {
     "base_uri": "https://localhost:8080/",
     "height": 0
    },
    "id": "n1CTagtZkk1-",
    "outputId": "ea8a1b49-a421-4f19-892a-22513ce7a46c"
   },
   "outputs": [
    {
     "name": "stdout",
     "output_type": "stream",
     "text": [
      "(278858, 3) (271360, 8) (1149780, 3)\n"
     ]
    }
   ],
   "source": [
    "print(users.shape, items.shape, ratings.shape)"
   ]
  },
  {
   "cell_type": "markdown",
   "metadata": {
    "id": "jKuzk7EJhUao",
    "papermill": {
     "duration": 0.008394,
     "end_time": "2020-09-05T16:56:27.395058",
     "exception": false,
     "start_time": "2020-09-05T16:56:27.386664",
     "status": "completed"
    },
    "tags": []
   },
   "source": [
    "## Merging the dataframes"
   ]
  },
  {
   "cell_type": "code",
   "execution_count": 7,
   "metadata": {
    "id": "m2s5jOf6lY_0"
   },
   "outputs": [],
   "source": [
    "items.drop(['Image-URL-S', 'Image-URL-M', 'Image-URL-L'], axis=1, inplace=True)"
   ]
  },
  {
   "cell_type": "code",
   "execution_count": 8,
   "metadata": {
    "colab": {
     "base_uri": "https://localhost:8080/",
     "height": 0
    },
    "execution": {
     "iopub.execute_input": "2020-09-05T16:56:27.674675Z",
     "iopub.status.busy": "2020-09-05T16:56:27.590940Z",
     "iopub.status.idle": "2020-09-05T16:56:29.877593Z",
     "shell.execute_reply": "2020-09-05T16:56:29.878466Z"
    },
    "id": "5gghHQtuhUao",
    "outputId": "791422a4-7cb4-4ed2-f131-4378ebc62ffe",
    "papermill": {
     "duration": 2.474607,
     "end_time": "2020-09-05T16:56:29.878706",
     "exception": false,
     "start_time": "2020-09-05T16:56:27.404099",
     "status": "completed"
    },
    "tags": []
   },
   "outputs": [
    {
     "data": {
      "text/html": [
       "<div>\n",
       "<style scoped>\n",
       "    .dataframe tbody tr th:only-of-type {\n",
       "        vertical-align: middle;\n",
       "    }\n",
       "\n",
       "    .dataframe tbody tr th {\n",
       "        vertical-align: top;\n",
       "    }\n",
       "\n",
       "    .dataframe thead th {\n",
       "        text-align: right;\n",
       "    }\n",
       "</style>\n",
       "<table border=\"1\" class=\"dataframe\">\n",
       "  <thead>\n",
       "    <tr style=\"text-align: right;\">\n",
       "      <th></th>\n",
       "      <th>User-ID</th>\n",
       "      <th>Location</th>\n",
       "      <th>Age</th>\n",
       "      <th>ISBN</th>\n",
       "      <th>Book-Rating</th>\n",
       "      <th>Book-Title</th>\n",
       "      <th>Book-Author</th>\n",
       "      <th>Year-Of-Publication</th>\n",
       "      <th>Publisher</th>\n",
       "    </tr>\n",
       "  </thead>\n",
       "  <tbody>\n",
       "    <tr>\n",
       "      <th>0</th>\n",
       "      <td>2</td>\n",
       "      <td>stockton, california, usa</td>\n",
       "      <td>18.0</td>\n",
       "      <td>0195153448</td>\n",
       "      <td>0</td>\n",
       "      <td>Classical Mythology</td>\n",
       "      <td>Mark P. O. Morford</td>\n",
       "      <td>2002</td>\n",
       "      <td>Oxford University Press</td>\n",
       "    </tr>\n",
       "    <tr>\n",
       "      <th>1</th>\n",
       "      <td>8</td>\n",
       "      <td>timmins, ontario, canada</td>\n",
       "      <td>NaN</td>\n",
       "      <td>0002005018</td>\n",
       "      <td>5</td>\n",
       "      <td>Clara Callan</td>\n",
       "      <td>Richard Bruce Wright</td>\n",
       "      <td>2001</td>\n",
       "      <td>HarperFlamingo Canada</td>\n",
       "    </tr>\n",
       "    <tr>\n",
       "      <th>2</th>\n",
       "      <td>11400</td>\n",
       "      <td>ottawa, ontario, canada</td>\n",
       "      <td>49.0</td>\n",
       "      <td>0002005018</td>\n",
       "      <td>0</td>\n",
       "      <td>Clara Callan</td>\n",
       "      <td>Richard Bruce Wright</td>\n",
       "      <td>2001</td>\n",
       "      <td>HarperFlamingo Canada</td>\n",
       "    </tr>\n",
       "    <tr>\n",
       "      <th>3</th>\n",
       "      <td>11676</td>\n",
       "      <td>n/a, n/a, n/a</td>\n",
       "      <td>NaN</td>\n",
       "      <td>0002005018</td>\n",
       "      <td>8</td>\n",
       "      <td>Clara Callan</td>\n",
       "      <td>Richard Bruce Wright</td>\n",
       "      <td>2001</td>\n",
       "      <td>HarperFlamingo Canada</td>\n",
       "    </tr>\n",
       "    <tr>\n",
       "      <th>4</th>\n",
       "      <td>41385</td>\n",
       "      <td>sudbury, ontario, canada</td>\n",
       "      <td>NaN</td>\n",
       "      <td>0002005018</td>\n",
       "      <td>0</td>\n",
       "      <td>Clara Callan</td>\n",
       "      <td>Richard Bruce Wright</td>\n",
       "      <td>2001</td>\n",
       "      <td>HarperFlamingo Canada</td>\n",
       "    </tr>\n",
       "  </tbody>\n",
       "</table>\n",
       "</div>"
      ],
      "text/plain": [
       "   User-ID  ...                Publisher\n",
       "0        2  ...  Oxford University Press\n",
       "1        8  ...    HarperFlamingo Canada\n",
       "2    11400  ...    HarperFlamingo Canada\n",
       "3    11676  ...    HarperFlamingo Canada\n",
       "4    41385  ...    HarperFlamingo Canada\n",
       "\n",
       "[5 rows x 9 columns]"
      ]
     },
     "execution_count": 8,
     "metadata": {
      "tags": []
     },
     "output_type": "execute_result"
    }
   ],
   "source": [
    "df = pd.merge(users, ratings, on='User-ID')\n",
    "df = pd.merge(df, items, on='ISBN')\n",
    "df.head(5)"
   ]
  },
  {
   "cell_type": "code",
   "execution_count": 9,
   "metadata": {
    "colab": {
     "base_uri": "https://localhost:8080/",
     "height": 0
    },
    "execution": {
     "iopub.execute_input": "2020-09-05T16:56:29.909816Z",
     "iopub.status.busy": "2020-09-05T16:56:29.908752Z",
     "iopub.status.idle": "2020-09-05T16:56:29.913231Z",
     "shell.execute_reply": "2020-09-05T16:56:29.914050Z"
    },
    "id": "hqcDvjT5hUar",
    "outputId": "ea8e16b9-74c4-4be8-c207-62a6358b7ecd",
    "papermill": {
     "duration": 0.023099,
     "end_time": "2020-09-05T16:56:29.914254",
     "exception": false,
     "start_time": "2020-09-05T16:56:29.891155",
     "status": "completed"
    },
    "tags": []
   },
   "outputs": [
    {
     "data": {
      "text/plain": [
       "(1031136, 9)"
      ]
     },
     "execution_count": 9,
     "metadata": {
      "tags": []
     },
     "output_type": "execute_result"
    }
   ],
   "source": [
    "df.shape"
   ]
  },
  {
   "cell_type": "code",
   "execution_count": 10,
   "metadata": {
    "id": "mRI7850bU61W"
   },
   "outputs": [],
   "source": [
    "#df = df.sample(frac=0.5)"
   ]
  },
  {
   "cell_type": "markdown",
   "metadata": {
    "id": "QnMfWUUzhUat",
    "papermill": {
     "duration": 0.010391,
     "end_time": "2020-09-05T16:56:29.937196",
     "exception": false,
     "start_time": "2020-09-05T16:56:29.926805",
     "status": "completed"
    },
    "tags": []
   },
   "source": [
    "## Dropping null values"
   ]
  },
  {
   "cell_type": "code",
   "execution_count": 11,
   "metadata": {
    "colab": {
     "base_uri": "https://localhost:8080/",
     "height": 0
    },
    "id": "cNCjk2JQlAUM",
    "outputId": "bbed46ec-dba8-410e-f7cb-278ab4144de9"
   },
   "outputs": [
    {
     "data": {
      "text/plain": [
       "User-ID                     0\n",
       "Location                    0\n",
       "Age                    277835\n",
       "ISBN                        0\n",
       "Book-Rating                 0\n",
       "Book-Title                  0\n",
       "Book-Author                 1\n",
       "Year-Of-Publication         0\n",
       "Publisher                   2\n",
       "dtype: int64"
      ]
     },
     "execution_count": 11,
     "metadata": {
      "tags": []
     },
     "output_type": "execute_result"
    }
   ],
   "source": [
    "df.isnull().sum()"
   ]
  },
  {
   "cell_type": "code",
   "execution_count": 12,
   "metadata": {
    "colab": {
     "base_uri": "https://localhost:8080/",
     "height": 0
    },
    "execution": {
     "iopub.execute_input": "2020-09-05T16:56:32.486074Z",
     "iopub.status.busy": "2020-09-05T16:56:32.485265Z",
     "iopub.status.idle": "2020-09-05T16:56:32.839230Z",
     "shell.execute_reply": "2020-09-05T16:56:32.838542Z"
    },
    "id": "UY5wjpinhUau",
    "outputId": "ca8e590c-89dc-46e2-babd-181511bb4ecb",
    "papermill": {
     "duration": 2.891861,
     "end_time": "2020-09-05T16:56:32.839366",
     "exception": false,
     "start_time": "2020-09-05T16:56:29.947505",
     "status": "completed"
    },
    "tags": []
   },
   "outputs": [
    {
     "data": {
      "text/plain": [
       "(753298, 9)"
      ]
     },
     "execution_count": 12,
     "metadata": {
      "tags": []
     },
     "output_type": "execute_result"
    }
   ],
   "source": [
    "df.dropna(how='any', axis=0, inplace=True)\n",
    "df.shape"
   ]
  },
  {
   "cell_type": "code",
   "execution_count": 13,
   "metadata": {
    "colab": {
     "base_uri": "https://localhost:8080/",
     "height": 0
    },
    "execution": {
     "iopub.execute_input": "2020-09-05T16:56:33.086727Z",
     "iopub.status.busy": "2020-09-05T16:56:32.985136Z",
     "iopub.status.idle": "2020-09-05T16:56:37.836308Z",
     "shell.execute_reply": "2020-09-05T16:56:37.836903Z"
    },
    "id": "mO2favxOhUaw",
    "outputId": "4909f915-b2fb-4afd-a456-3184dc3a5d39",
    "papermill": {
     "duration": 4.988268,
     "end_time": "2020-09-05T16:56:37.837097",
     "exception": false,
     "start_time": "2020-09-05T16:56:32.848829",
     "status": "completed"
    },
    "tags": []
   },
   "outputs": [
    {
     "data": {
      "text/html": [
       "<div>\n",
       "<style scoped>\n",
       "    .dataframe tbody tr th:only-of-type {\n",
       "        vertical-align: middle;\n",
       "    }\n",
       "\n",
       "    .dataframe tbody tr th {\n",
       "        vertical-align: top;\n",
       "    }\n",
       "\n",
       "    .dataframe thead th {\n",
       "        text-align: right;\n",
       "    }\n",
       "</style>\n",
       "<table border=\"1\" class=\"dataframe\">\n",
       "  <thead>\n",
       "    <tr style=\"text-align: right;\">\n",
       "      <th></th>\n",
       "      <th>User-ID</th>\n",
       "      <th>Age</th>\n",
       "      <th>Book-Rating</th>\n",
       "    </tr>\n",
       "  </thead>\n",
       "  <tbody>\n",
       "    <tr>\n",
       "      <th>count</th>\n",
       "      <td>753298.000000</td>\n",
       "      <td>753298.000000</td>\n",
       "      <td>753298.000000</td>\n",
       "    </tr>\n",
       "    <tr>\n",
       "      <th>mean</th>\n",
       "      <td>141231.317098</td>\n",
       "      <td>37.397625</td>\n",
       "      <td>2.768898</td>\n",
       "    </tr>\n",
       "    <tr>\n",
       "      <th>std</th>\n",
       "      <td>78828.553360</td>\n",
       "      <td>14.098256</td>\n",
       "      <td>3.864231</td>\n",
       "    </tr>\n",
       "    <tr>\n",
       "      <th>min</th>\n",
       "      <td>2.000000</td>\n",
       "      <td>0.000000</td>\n",
       "      <td>0.000000</td>\n",
       "    </tr>\n",
       "    <tr>\n",
       "      <th>25%</th>\n",
       "      <td>74453.000000</td>\n",
       "      <td>28.000000</td>\n",
       "      <td>0.000000</td>\n",
       "    </tr>\n",
       "    <tr>\n",
       "      <th>50%</th>\n",
       "      <td>141493.000000</td>\n",
       "      <td>35.000000</td>\n",
       "      <td>0.000000</td>\n",
       "    </tr>\n",
       "    <tr>\n",
       "      <th>75%</th>\n",
       "      <td>209156.000000</td>\n",
       "      <td>45.000000</td>\n",
       "      <td>7.000000</td>\n",
       "    </tr>\n",
       "    <tr>\n",
       "      <th>max</th>\n",
       "      <td>278852.000000</td>\n",
       "      <td>244.000000</td>\n",
       "      <td>10.000000</td>\n",
       "    </tr>\n",
       "  </tbody>\n",
       "</table>\n",
       "</div>"
      ],
      "text/plain": [
       "             User-ID            Age    Book-Rating\n",
       "count  753298.000000  753298.000000  753298.000000\n",
       "mean   141231.317098      37.397625       2.768898\n",
       "std     78828.553360      14.098256       3.864231\n",
       "min         2.000000       0.000000       0.000000\n",
       "25%     74453.000000      28.000000       0.000000\n",
       "50%    141493.000000      35.000000       0.000000\n",
       "75%    209156.000000      45.000000       7.000000\n",
       "max    278852.000000     244.000000      10.000000"
      ]
     },
     "execution_count": 13,
     "metadata": {
      "tags": []
     },
     "output_type": "execute_result"
    }
   ],
   "source": [
    "df.describe()"
   ]
  },
  {
   "cell_type": "markdown",
   "metadata": {
    "id": "xo0EPLMUhUa2",
    "papermill": {
     "duration": 0.009747,
     "end_time": "2020-09-05T16:56:37.904808",
     "exception": false,
     "start_time": "2020-09-05T16:56:37.895061",
     "status": "completed"
    },
    "tags": []
   },
   "source": [
    "## Changing datatypes"
   ]
  },
  {
   "cell_type": "code",
   "execution_count": 14,
   "metadata": {
    "execution": {
     "iopub.execute_input": "2020-09-05T16:56:38.035386Z",
     "iopub.status.busy": "2020-09-05T16:56:38.034282Z",
     "iopub.status.idle": "2020-09-05T16:56:38.571560Z",
     "shell.execute_reply": "2020-09-05T16:56:38.570849Z"
    },
    "id": "s15eBoNhhUa2",
    "papermill": {
     "duration": 0.657081,
     "end_time": "2020-09-05T16:56:38.571715",
     "exception": false,
     "start_time": "2020-09-05T16:56:37.914634",
     "status": "completed"
    },
    "tags": []
   },
   "outputs": [],
   "source": [
    "df['Age'] = df['Age'].astype(int)\n",
    "df['User-ID'] = df['User-ID'].astype(int)"
   ]
  },
  {
   "cell_type": "markdown",
   "metadata": {
    "id": "UCGYnO18hUa4",
    "papermill": {
     "duration": 0.009676,
     "end_time": "2020-09-05T16:56:38.591534",
     "exception": false,
     "start_time": "2020-09-05T16:56:38.581858",
     "status": "completed"
    },
    "tags": []
   },
   "source": [
    "## Spitting location column into newer columns"
   ]
  },
  {
   "cell_type": "code",
   "execution_count": 15,
   "metadata": {
    "execution": {
     "iopub.execute_input": "2020-09-05T16:56:38.702287Z",
     "iopub.status.busy": "2020-09-05T16:56:38.701106Z",
     "iopub.status.idle": "2020-09-05T16:56:42.121084Z",
     "shell.execute_reply": "2020-09-05T16:56:42.120341Z"
    },
    "id": "PI3E1P1qhUa4",
    "papermill": {
     "duration": 3.519474,
     "end_time": "2020-09-05T16:56:42.121216",
     "exception": false,
     "start_time": "2020-09-05T16:56:38.601742",
     "status": "completed"
    },
    "tags": []
   },
   "outputs": [],
   "source": [
    "location = df.Location.str.split(', ', n=2, expand=True)\n",
    "location.columns=['city', 'state', 'country']\n",
    "\n",
    "df['city'] = location['city']\n",
    "df['state'] = location['state']\n",
    "df['country'] = location['country']\n",
    "df.drop('Location', axis=1, inplace=True)"
   ]
  },
  {
   "cell_type": "code",
   "execution_count": 16,
   "metadata": {
    "colab": {
     "base_uri": "https://localhost:8080/",
     "height": 0
    },
    "id": "oWL6J37SdTfQ",
    "outputId": "af8e9bc6-4e3a-491e-bb30-b4e01d0c1a62"
   },
   "outputs": [
    {
     "data": {
      "text/plain": [
       "User-ID                    0\n",
       "Age                        0\n",
       "ISBN                       0\n",
       "Book-Rating                0\n",
       "Book-Title                 0\n",
       "Book-Author                0\n",
       "Year-Of-Publication        0\n",
       "Publisher                  0\n",
       "city                       0\n",
       "state                      0\n",
       "country                10635\n",
       "dtype: int64"
      ]
     },
     "execution_count": 16,
     "metadata": {
      "tags": []
     },
     "output_type": "execute_result"
    }
   ],
   "source": [
    "df.isna().sum()"
   ]
  },
  {
   "cell_type": "markdown",
   "metadata": {
    "id": "4Wpkd9HKbXg5"
   },
   "source": [
    "# Visual Analysis of Distribution of Numerical Data\n",
    "\n",
    "In this segment, I visualized the distribution of the Numerical features with respect to each other using a pair plot with scatter plot as the function to check the extent and quality of the pre-processing done."
   ]
  },
  {
   "cell_type": "code",
   "execution_count": 17,
   "metadata": {
    "colab": {
     "base_uri": "https://localhost:8080/",
     "height": 0
    },
    "execution": {
     "iopub.execute_input": "2020-09-05T16:56:43.363021Z",
     "iopub.status.busy": "2020-09-05T16:56:43.362209Z",
     "iopub.status.idle": "2020-09-05T16:57:03.271187Z",
     "shell.execute_reply": "2020-09-05T16:57:03.271780Z"
    },
    "id": "9YyQeYzIhUbB",
    "outputId": "59d198d5-4e1b-4f99-f2df-2dfe82947e7c",
    "papermill": {
     "duration": 19.925404,
     "end_time": "2020-09-05T16:57:03.271944",
     "exception": false,
     "start_time": "2020-09-05T16:56:43.346540",
     "status": "completed"
    },
    "tags": []
   },
   "outputs": [
    {
     "data": {
      "text/plain": [
       "<seaborn.axisgrid.PairGrid at 0x7f6e0e42a9b0>"
      ]
     },
     "execution_count": 17,
     "metadata": {
      "tags": []
     },
     "output_type": "execute_result"
    },
    {
     "data": {
      "image/png": "[encoded data removed]",
      "text/plain": [
       "<Figure size 864x864 with 12 Axes>"
      ]
     },
     "metadata": {
      "tags": []
     },
     "output_type": "display_data"
    }
   ],
   "source": [
    "sns.set_style(\"whitegrid\")\n",
    "sns.pairplot(df, height=4)"
   ]
  },
  {
   "cell_type": "markdown",
   "metadata": {
    "id": "AMfGwR9kh83N"
   },
   "source": [
    "# Similarity-Based Recommender System\n",
    "\n",
    "\n",
    "In this segment, I did the following processes:\n",
    "- Defining Useful Data Structures\n",
    "- Finding Similarities using Jaccard Similarity\n",
    "- Getting a Recommendation\n",
    "- Collaborative-Filtering based Rating Prediction\n",
    "- Evaluating Performance of our Recommender System using Mean-Squared Error"
   ]
  },
  {
   "cell_type": "markdown",
   "metadata": {
    "id": "-aU7qLZoCgbo"
   },
   "source": [
    "### Defining Useful Data Structures"
   ]
  },
  {
   "cell_type": "code",
   "execution_count": 18,
   "metadata": {
    "id": "djv_rcLUIBTf"
   },
   "outputs": [],
   "source": [
    "users = df['User-ID'].unique()\n",
    "items = df['ISBN'].unique()"
   ]
  },
  {
   "cell_type": "code",
   "execution_count": 19,
   "metadata": {
    "id": "0rH_Sfgrh83Z"
   },
   "outputs": [],
   "source": [
    "usersPerItem = defaultdict(set)\n",
    "itemsPerUser = defaultdict(set)\n",
    "\n",
    "itemNames = {}\n",
    "dataset = df.values\n",
    "\n",
    "for d in dataset:\n",
    "    #user,item = d['customer_id'], d['product_id']\n",
    "    usersPerItem[d[2]].add(d[0])\n",
    "    itemsPerUser[d[0]].add(d[2])\n",
    "    itemNames[d[2]] = d[4]"
   ]
  },
  {
   "cell_type": "markdown",
   "metadata": {
    "id": "52WTcNgRh83Z"
   },
   "source": [
    "### Finding Similarities\n",
    "\n",
    "As stated before, first, i, defined the Jaccard function which calculates the Jaccard Similarity between two Sets\n",
    "\n",
    "Then, I defined the mostSimilar function which will use Jaccard Similarity to find the Books that are **most similar to the Book that was provided on the basis of Users who read that book.**"
   ]
  },
  {
   "cell_type": "markdown",
   "metadata": {
    "id": "8Q0-Z4VmQKPx"
   },
   "source": [
    "#### Jaccard Similarity Function\n",
    " $$J(A, B) = \\frac{|A \\cap B|}{|A \\cup B|} $$"
   ]
  },
  {
   "cell_type": "code",
   "execution_count": 20,
   "metadata": {
    "id": "eILGOj2kh83c"
   },
   "outputs": [],
   "source": [
    "def Jaccard(s1, s2):\n",
    "    numer = len(s1.intersection(s2))\n",
    "    denom = len(s1.union(s2))\n",
    "    return numer / denom"
   ]
  },
  {
   "cell_type": "markdown",
   "metadata": {
    "id": "oa4ReIYLr53y"
   },
   "source": [
    "#### Function to determine what is similar within the dataset\n",
    "**It's sufficient to iterate over those items purchased by one of the users who purchased i**\n",
    "\n",
    "### Strategy:\n",
    "* Find the set of users who purchased item i\n",
    "* Iterate over all **users** other than i\n",
    "* Build a candidate set from all items those users consumed\n",
    "* For items in this set, compute their similarity with i and store it\n",
    "* Sort all the other items by Jaccard similarity\n",
    " $$J(U_{i}, U_{j}) = \\frac{|U_{i} \\cap U_{j}|}{|U_{i} \\cup U_{j}|} $$\n",
    "* Return the most similar"
   ]
  },
  {
   "cell_type": "code",
   "execution_count": 21,
   "metadata": {
    "id": "lfPuHo8wucw6"
   },
   "outputs": [],
   "source": [
    "def mostSimilar(iD, n):\n",
    "    similarities = []\n",
    "    user = usersPerItem[iD]\n",
    "    candidateItems = set()\n",
    "    for u in user:\n",
    "        candidateItems = candidateItems.union(itemsPerUser[u])\n",
    "    for i2 in candidateItems:\n",
    "        if i2 == iD: continue\n",
    "        sim = Jaccard(user, usersPerItem[i2])\n",
    "        similarities.append((sim, i2))\n",
    "    similarities.sort(reverse = True)\n",
    "    return similarities[:n]"
   ]
  },
  {
   "cell_type": "markdown",
   "metadata": {
    "id": "vejO5Z_Rh83t"
   },
   "source": [
    "### Collaborative-Filtering-Based Rating Prediction\n",
    "\n",
    "I also used the similarity-based recommender I developed above to make predictions about reader's ratings. It is a simple heuristic that can be used to estimate a user's future ratings based on their ratings in the past.\n",
    "\n",
    "Specifically, a user's rating for a book is assumed to be a weighted sum of their previous ratings, weighted by how similar the query book is to each of their previous purchases."
   ]
  },
  {
   "cell_type": "markdown",
   "metadata": {
    "id": "itK7Vf0ndpHG"
   },
   "source": [
    "I start by building a few more utility data structures to keep track of all of the reviews by each user and for each item."
   ]
  },
  {
   "cell_type": "code",
   "execution_count": 30,
   "metadata": {
    "id": "2PI0P-hQh83t"
   },
   "outputs": [],
   "source": [
    "reviewsPerUser = defaultdict(list)\n",
    "reviewsPerItem = defaultdict(list)\n",
    "\n",
    "for d in dataset:\n",
    "    reviewsPerUser[d[0]].append(d)\n",
    "    reviewsPerItem[d[2]].append(d)"
   ]
  },
  {
   "cell_type": "code",
   "execution_count": 31,
   "metadata": {
    "colab": {
     "base_uri": "https://localhost:8080/",
     "height": 35
    },
    "id": "VKG1zQGJh83v",
    "outputId": "fc6ed328-9077-4c89-f838-9b70e3f1b5f4"
   },
   "outputs": [
    {
     "data": {
      "text/plain": [
       "2.7688975677620276"
      ]
     },
     "execution_count": 31,
     "metadata": {
      "tags": []
     },
     "output_type": "execute_result"
    }
   ],
   "source": [
    "# Calculates the mean rating of the entire dataset\n",
    "ratingMean = np.sum(dataset[:, 3]) / len(dataset)\n",
    "ratingMean"
   ]
  },
  {
   "cell_type": "markdown",
   "metadata": {
    "id": "m5MMYb2th83x"
   },
   "source": [
    "#### Now that I have calculated the average rating of the dataset as a whole, I am going to implement a function which predicts Rating based on a user and an item."
   ]
  },
  {
   "cell_type": "markdown",
   "metadata": {
    "id": "YLaqOGIIzxqW"
   },
   "source": [
    "### For predicting the rating of an item by an user:\n",
    "##$$r(u, i) = \\frac{1}{Z}.\\sum\\limits_{j \\in I_{u}{\\\\i}} r_{u,j}.sim(i, j)  $$"
   ]
  },
  {
   "cell_type": "code",
   "execution_count": 32,
   "metadata": {
    "id": "lpAw1xnUh83y"
   },
   "outputs": [],
   "source": [
    "def predictRating(user,item):\n",
    "    ratings = []\n",
    "    similarities = []\n",
    "    for d in reviewsPerUser[user]:\n",
    "        i2 = d[2]\n",
    "        if i2 == item: continue\n",
    "        ratings.append(d[3])\n",
    "        similarities.append(Jaccard(usersPerItem[item],usersPerItem[i2]))\n",
    "    ratings = np.array(ratings)\n",
    "    similarities = np.array(similarities)\n",
    "    if (sum(similarities) > 0):\n",
    "        return np.sum(ratings*similarities) / np.sum(similarities)\n",
    "    else:\n",
    "        # User hasn't rated any similar books\n",
    "        return ratingMean"
   ]
  },
  {
   "cell_type": "code",
   "execution_count": 34,
   "metadata": {
    "colab": {
     "base_uri": "https://localhost:8080/",
     "height": 53
    },
    "id": "syq1YvvgXwBK",
    "outputId": "90aa2271-26be-441e-e3f7-b85b5fdf6f9f"
   },
   "outputs": [
    {
     "data": {
      "application/vnd.google.colaboratory.intrinsic+json": {
       "type": "string"
      },
      "text/plain": [
       "\"\\nTo find the index of Users who hasn't rated similar books\\nc = []\\nfor d in dataset[:100]:\\n    if len(reviewsPerUser[d[0]])<2:\\n        c.append(np.where(dataset == d[0])[0][0])\\nc[:10]\\n\""
      ]
     },
     "execution_count": 34,
     "metadata": {
      "tags": []
     },
     "output_type": "execute_result"
    }
   ],
   "source": [
    "'''\n",
    "#To find the index of Users who hasn't rated similar books\n",
    "#This is calculated just for confirmation\n",
    "c = []\n",
    "for d in dataset[:100]:\n",
    "    if len(reviewsPerUser[d[0]])<2:\n",
    "        c.append(np.where(dataset == d[0])[0][0])\n",
    "c[:10]\n",
    "'''"
   ]
  },
  {
   "cell_type": "code",
   "execution_count": 35,
   "metadata": {
    "colab": {
     "base_uri": "https://localhost:8080/",
     "height": 70
    },
    "id": "78vRwi67BsSq",
    "outputId": "4a15287e-ee54-442c-8709-7a00bbbda75a"
   },
   "outputs": [
    {
     "data": {
      "text/plain": [
       "array([2, 18, '0195153448', 0, 'Classical Mythology',\n",
       "       'Mark P. O. Morford', '2002', 'Oxford University Press',\n",
       "       'stockton', 'california', 'usa'], dtype=object)"
      ]
     },
     "execution_count": 35,
     "metadata": {
      "tags": []
     },
     "output_type": "execute_result"
    }
   ],
   "source": [
    "dataset[0]"
   ]
  },
  {
   "cell_type": "code",
   "execution_count": 36,
   "metadata": {
    "colab": {
     "base_uri": "https://localhost:8080/",
     "height": 35
    },
    "id": "i0rp8zTDh834",
    "outputId": "ac2cbd7b-e40d-44c4-9103-c3b3b7207f64"
   },
   "outputs": [
    {
     "data": {
      "text/plain": [
       "2.7688975677620276"
      ]
     },
     "execution_count": 36,
     "metadata": {
      "tags": []
     },
     "output_type": "execute_result"
    }
   ],
   "source": [
    "# Using the predictRating function defined above, calculated the predicted rating \n",
    "#for the user at index [0] where the user hasn't rated any more books than 1\n",
    "\n",
    "user,item = dataset[0][0], dataset[0][2]\n",
    "predictRating(user, item)"
   ]
  },
  {
   "cell_type": "markdown",
   "metadata": {
    "id": "-k1EGxzFh836"
   },
   "source": [
    "In this case our user hasn't rated any similar books, so our function defaults to returning the dataset Mean Rating."
   ]
  },
  {
   "cell_type": "code",
   "execution_count": 37,
   "metadata": {
    "colab": {
     "base_uri": "https://localhost:8080/",
     "height": 35
    },
    "id": "Y4-dgWBvh837",
    "outputId": "5f0a7dc9-d76e-471d-bb13-1f117e68f64e"
   },
   "outputs": [
    {
     "data": {
      "text/plain": [
       "1.7187230371009492"
      ]
     },
     "execution_count": 37,
     "metadata": {
      "tags": []
     },
     "output_type": "execute_result"
    }
   ],
   "source": [
    "# Calculated the predicted rating for the user at index [14] where the user has rated more books\n",
    "\n",
    "user,item = dataset[14][0], dataset[14][2]\n",
    "predictRating(user, item)"
   ]
  },
  {
   "cell_type": "markdown",
   "metadata": {
    "id": "OaDVnHUHezg0"
   },
   "source": [
    "In this case, answer differs by a lot from the above"
   ]
  },
  {
   "cell_type": "markdown",
   "metadata": {
    "id": "h7PwGefXh839"
   },
   "source": [
    "### Evaluating Performance\n",
    "\n",
    "Here, I tried evaluating our Similarity-based Recommender System using the Mean-Squared Error metric"
   ]
  },
  {
   "cell_type": "markdown",
   "metadata": {
    "id": "HZO-5Ko6i_I3"
   },
   "source": [
    "#### Defining our Mean-Squared Error function"
   ]
  },
  {
   "cell_type": "code",
   "execution_count": 38,
   "metadata": {
    "id": "VrZs8HS4h839"
   },
   "outputs": [],
   "source": [
    "def MSE(predictions, labels):\n",
    "    return np.sum((np.array(predictions) - np.array(labels))**2) / len(labels)"
   ]
  },
  {
   "cell_type": "markdown",
   "metadata": {
    "id": "WJ4wFMAWh83_"
   },
   "source": [
    "To evaluate the performance of our model, we will need two things:\n",
    "1. A list of the average Rating (i.e. ratingMean)\n",
    "2. A list of our predicted ratings (i.e. ratings defined by our predictRating function)"
   ]
  },
  {
   "cell_type": "code",
   "execution_count": 42,
   "metadata": {
    "id": "gm_GOJTZh84A"
   },
   "outputs": [],
   "source": [
    "#Defined the two lists described above\n",
    "alwaysPredictMean = [ratingMean for d in dataset[:400000]]\n",
    "\n",
    "cfPredictions = [predictRating(d[0], d[2]) for d in dataset[:400000]]\n",
    "\n",
    "#predictRatingVecotrized = np.vectorize(predictRating)\n",
    "#cfPredictions = predictRatingVecotrized(dataset[:, [0]], dataset[:, [2]])"
   ]
  },
  {
   "cell_type": "markdown",
   "metadata": {
    "id": "e7nxZuqFh84C"
   },
   "source": [
    "#### Finally, we will compare our two lists above with the actual star ratings in our dataset."
   ]
  },
  {
   "cell_type": "code",
   "execution_count": 43,
   "metadata": {
    "colab": {
     "base_uri": "https://localhost:8080/",
     "height": 35
    },
    "id": "OvKU5Vg2h84D",
    "outputId": "e045f826-f705-4ff1-a066-a061fb4cf31d"
   },
   "outputs": [
    {
     "name": "stdout",
     "output_type": "stream",
     "text": [
      "15.238928914209085 12.35916374197867\n"
     ]
    }
   ],
   "source": [
    "labels = [d[3] for d in dataset[:400000]]\n",
    "\n",
    "print(MSE(alwaysPredictMean, labels), MSE(cfPredictions, labels))"
   ]
  },
  {
   "cell_type": "markdown",
   "metadata": {
    "id": "Skk54tdPv3kD"
   },
   "source": [
    "#### The Error decreased 3 units from using our predictRating function rather than using just the Average Rating from the dataset.\n",
    "\n",
    "#### In this case, I'm getting such high error because I only used the first 400,000 samples from the original data for the sake of faster computation. So, its clearly understandable that the error will be a lot less if the full dataset is used."
   ]
  },
  {
   "cell_type": "markdown",
   "metadata": {
    "id": "5MqBMU22h83h"
   },
   "source": [
    "### Getting a recommendation\n",
    "\n",
    "The mostSimilar function above takes an input of an `ISBN` of a specific book and a value `n` which is the number of similar Books to recommend, then outputs a list of size `n` with the recommended `ISBN`'s.\n",
    "\n",
    "We use these `ISBN`'s to print the `Book-Title` of each ISBN for recommendation"
   ]
  },
  {
   "cell_type": "code",
   "execution_count": 44,
   "metadata": {
    "id": "g-rUyJfWXRbe"
   },
   "outputs": [],
   "source": [
    "query = df[df['Book-Title'] == \"The Testament\"].iloc[1].ISBN"
   ]
  },
  {
   "cell_type": "code",
   "execution_count": 45,
   "metadata": {
    "colab": {
     "base_uri": "https://localhost:8080/",
     "height": 36
    },
    "id": "PPQBK4Vth83m",
    "outputId": "961799c6-92cb-4a7d-8558-dad534873f58"
   },
   "outputs": [
    {
     "data": {
      "application/vnd.google.colaboratory.intrinsic+json": {
       "type": "string"
      },
      "text/plain": [
       "'The Testament'"
      ]
     },
     "execution_count": 45,
     "metadata": {
      "tags": []
     },
     "output_type": "execute_result"
    }
   ],
   "source": [
    "itemNames[query]"
   ]
  },
  {
   "cell_type": "code",
   "execution_count": 46,
   "metadata": {
    "colab": {
     "base_uri": "https://localhost:8080/",
     "height": 195
    },
    "id": "-zimZyniP5F3",
    "outputId": "a8da4477-cd9a-48df-f45b-a1f3e141adfe"
   },
   "outputs": [
    {
     "data": {
      "text/plain": [
       "['The Partner',\n",
       " 'The Street Lawyer',\n",
       " 'The Rainmaker',\n",
       " 'The Brethren',\n",
       " 'The Client',\n",
       " 'The Chamber',\n",
       " 'The Firm',\n",
       " 'A Time to Kill',\n",
       " 'The Pelican Brief',\n",
       " 'The Runaway Jury']"
      ]
     },
     "execution_count": 46,
     "metadata": {
      "tags": []
     },
     "output_type": "execute_result"
    }
   ],
   "source": [
    "[itemNames[x[1]] for x in mostSimilar(query, 10)]"
   ]
  },
  {
   "cell_type": "code",
   "execution_count": 47,
   "metadata": {
    "colab": {
     "base_uri": "https://localhost:8080/",
     "height": 88
    },
    "id": "by0COGcO2Geu",
    "outputId": "8919a199-3c0e-488e-dfda-3526fb36ac74"
   },
   "outputs": [
    {
     "name": "stdout",
     "output_type": "stream",
     "text": [
      "John Grisham\n",
      "John Grisham\n",
      "JOHN GRISHAM\n",
      "John Grisham\n"
     ]
    }
   ],
   "source": [
    "print(df[df['Book-Title'] == \"The Testament\"].iloc[1]['Book-Author'])\n",
    "print(df[df['Book-Title'] == \"The Partner\"].iloc[1]['Book-Author'])\n",
    "print(df[df['Book-Title'] == \"The Rainmaker\"].iloc[1]['Book-Author'])\n",
    "print(df[df['Book-Title'] == \"The Chamber\"].iloc[1]['Book-Author'])"
   ]
  },
  {
   "cell_type": "code",
   "execution_count": 48,
   "metadata": {
    "id": "3SWTe89p1Azw"
   },
   "outputs": [],
   "source": [
    "query = df[df['Book-Title'] == \"The Da Vinci Code\"].iloc[1].ISBN"
   ]
  },
  {
   "cell_type": "code",
   "execution_count": 49,
   "metadata": {
    "colab": {
     "base_uri": "https://localhost:8080/",
     "height": 195
    },
    "id": "EJpGbjrE1VLX",
    "outputId": "137d8063-affe-49ad-d778-d519ebf27da4"
   },
   "outputs": [
    {
     "data": {
      "text/plain": [
       "['Angels &amp; Demons',\n",
       " 'The Lovely Bones: A Novel',\n",
       " 'The Secret Life of Bees',\n",
       " 'The Five People You Meet in Heaven',\n",
       " 'The Red Tent (Bestselling Backlist)',\n",
       " 'Divine Secrets of the Ya-Ya Sisterhood: A Novel',\n",
       " 'Harry Potter and the Order of the Phoenix (Book 5)',\n",
       " 'Snow Falling on Cedars',\n",
       " 'Life of Pi',\n",
       " 'Good in Bed']"
      ]
     },
     "execution_count": 49,
     "metadata": {
      "tags": []
     },
     "output_type": "execute_result"
    }
   ],
   "source": [
    "[itemNames[x[1]] for x in mostSimilar(query, 10)]"
   ]
  },
  {
   "cell_type": "code",
   "execution_count": 50,
   "metadata": {
    "colab": {
     "base_uri": "https://localhost:8080/",
     "height": 52
    },
    "id": "693lsR551hdm",
    "outputId": "05e3d1b4-c39e-483a-c1cf-0297475dd297"
   },
   "outputs": [
    {
     "name": "stdout",
     "output_type": "stream",
     "text": [
      "Dan Brown\n",
      "Dan Brown\n"
     ]
    }
   ],
   "source": [
    "print(df[df['Book-Title'] == \"The Da Vinci Code\"].iloc[1]['Book-Author'])\n",
    "print(df[df['Book-Title'] == \"Angels &amp; Demons\"].iloc[1]['Book-Author'])"
   ]
  },
  {
   "cell_type": "markdown",
   "metadata": {
    "id": "EcJJNNsIaGca"
   },
   "source": [
    "#### Observation:\n",
    "When I checked the Author for the query Book `The Testament` along with the top 3 books, I found out that its the same.\n",
    "\n",
    "Also, for the second query Book `The Da Vinci Code`, we get similar results with the Author's previous book `Angels & Demons`. Here, we don't have further books from the same Author because there aren't any more of his works registered, but we see that books with similar genre - *Action*, *Fantasy*, *Adventure*, was recommended.\n",
    "\n",
    "This shows that using **Jaccard Similarity** for Users reading similar books works pretty well because people who have read the work of an Author is likely to be interested in varioius other works from the *same Author* and also, people reading a specific genre is likely to be interested in different works consisting of the *same genre*."
   ]
  },
  {
   "cell_type": "markdown",
   "metadata": {
    "id": "ilc9Tgcyh84F"
   },
   "source": [
    "# Conclusion\n",
    "\n",
    "I got a fairly Good Recommendation when searching for Random books. Thus Jaccard Similarity is good for recommendations through Users reading similar books. But, it can be further improved by using Content-Based Recommendation Systems taking into account the data of Author, Title, Publisher and Year of Publication in our Model.\n",
    "\n",
    "I got a fairly high Mean-Squared Error when computing through just around 60% of our dataset so I'd get a lot less error if the total dataset was used.\n",
    "\n",
    "However this is just a heuristic example, and the similarity function could be modified to change its predictions (e.g. by using a different function other than the Jaccard similarity)."
   ]
  }
 ],
 "metadata": {
  "colab": {
   "collapsed_sections": [
    "4Wpkd9HKbXg5",
    "XDDUxpnND7UT",
    "MjVmGZJgSPX6"
   ],
   "name": "Book - Crossing Recommendation System .ipynb",
   "provenance": []
  },
  "kernelspec": {
   "display_name": "Python 3",
   "language": "python",
   "name": "python3"
  },
  "language_info": {
   "codemirror_mode": {
    "name": "ipython",
    "version": 3
   },
   "file_extension": ".py",
   "mimetype": "text/x-python",
   "name": "python",
   "nbconvert_exporter": "python",
   "pygments_lexer": "ipython3",
   "version": "3.8.3"
  },
  "papermill": {
   "duration": 49.790779,
   "end_time": "2020-09-05T16:57:03.391848",
   "environment_variables": {},
   "exception": null,
   "input_path": "__notebook__.ipynb",
   "output_path": "__notebook__.ipynb",
   "parameters": {},
   "start_time": "2020-09-05T16:56:13.601069",
   "version": "2.1.0"
  }
 },
 "nbformat": 4,
 "nbformat_minor": 1
}
