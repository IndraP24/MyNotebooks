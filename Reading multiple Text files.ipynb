{
 "cells": [
  {
   "cell_type": "code",
   "execution_count": 1,
   "metadata": {},
   "outputs": [],
   "source": [
    "import os"
   ]
  },
  {
   "cell_type": "code",
   "execution_count": 7,
   "metadata": {},
   "outputs": [
    {
     "data": {
      "text/plain": [
       "['English', 'French', 'German', 'Spanish']"
      ]
     },
     "execution_count": 7,
     "metadata": {},
     "output_type": "execute_result"
    }
   ],
   "source": [
    "book_dir = \"C:/indra Files/DOCUMENTS/Books\"\n",
    "os.listdir(book_dir)"
   ]
  },
  {
   "cell_type": "code",
   "execution_count": 8,
   "metadata": {},
   "outputs": [],
   "source": [
    "def count_words(text):\n",
    "  text = text.lower()\n",
    "  skips = [\".\", \",\",\";\", \":\", \"'\", '\"']\n",
    "  for ch in skips:\n",
    "    text = text.replace(ch, \"\")\n",
    "\n",
    "  word_counts = {}\n",
    "  for word in text.split(\" \"):\n",
    "    # known word\n",
    "    if word in word_counts:\n",
    "      word_counts[word] += 1\n",
    "    #unknown word\n",
    "    else:\n",
    "      word_counts[word] = 1\n",
    "  return word_counts"
   ]
  },
  {
   "cell_type": "code",
   "execution_count": 12,
   "metadata": {},
   "outputs": [],
   "source": [
    "def read_book(title_path):\n",
    "  \"\"\"\n",
    "  Read a book and return it as a string\n",
    "  \"\"\"\n",
    "  with open(title_path, \"r\", encoding = \"ISO-8859-1\") as current_file:\n",
    "    text = current_file.read()\n",
    "    text = text.replace(\"\\n\", \"\").replace(\"\\r\", \"\")\n",
    "\n",
    "  return text"
   ]
  },
  {
   "cell_type": "code",
   "execution_count": 10,
   "metadata": {},
   "outputs": [],
   "source": [
    "def word_stats(word_counts):\n",
    "  num_unique = len(word_counts)\n",
    "  counts = word_counts.values()\n",
    "  return (num_unique, counts)"
   ]
  },
  {
   "cell_type": "code",
   "execution_count": 14,
   "metadata": {},
   "outputs": [],
   "source": [
    "import pandas as pd"
   ]
  },
  {
   "cell_type": "code",
   "execution_count": 22,
   "metadata": {},
   "outputs": [],
   "source": [
    "stats = pd.DataFrame(columns = (\"language\", \"author\", \"title\", \"length\", \"unique\"))\n",
    "title_num = 1"
   ]
  },
  {
   "cell_type": "code",
   "execution_count": 23,
   "metadata": {},
   "outputs": [
    {
     "name": "stdout",
     "output_type": "stream",
     "text": [
      "C:/indra Files/DOCUMENTS/Books/English/WS/R&J Eng.txt\n",
      "C:/indra Files/DOCUMENTS/Books/English/WS - Copy/R&J Eng - Copy.txt\n",
      "C:/indra Files/DOCUMENTS/Books/French/WS/R&J Fre.txt\n",
      "C:/indra Files/DOCUMENTS/Books/French/WS - Copy/R&J Fre - Copy.txt\n",
      "C:/indra Files/DOCUMENTS/Books/German/WS/R&J Ger.txt\n",
      "C:/indra Files/DOCUMENTS/Books/German/WS - Copy/R&J Ger - Copy.txt\n",
      "C:/indra Files/DOCUMENTS/Books/Spanish/WS/R&J Spa.txt\n",
      "C:/indra Files/DOCUMENTS/Books/Spanish/WS - Copy/R&J Spa - Copy.txt\n"
     ]
    }
   ],
   "source": [
    "for language in os.listdir(book_dir):\n",
    "    for author in os.listdir(book_dir + \"/\" + language):\n",
    "        for title in os.listdir(book_dir + \"/\" + language + \"/\" + author):\n",
    "            inputfile = book_dir + \"/\" + language + \"/\" + author + \"/\" + title\n",
    "            print(inputfile)\n",
    "            text = read_book(inputfile)\n",
    "            (num_unique, counts) = word_stats(count_words(text))\n",
    "            stats.loc[title_num] = language, author.capitalize(), title.replace(\".txt\", \"\"), sum(counts), num_unique\n",
    "            title_num += 1"
   ]
  },
  {
   "cell_type": "code",
   "execution_count": 24,
   "metadata": {},
   "outputs": [
    {
     "data": {
      "text/html": [
       "<div>\n",
       "<style scoped>\n",
       "    .dataframe tbody tr th:only-of-type {\n",
       "        vertical-align: middle;\n",
       "    }\n",
       "\n",
       "    .dataframe tbody tr th {\n",
       "        vertical-align: top;\n",
       "    }\n",
       "\n",
       "    .dataframe thead th {\n",
       "        text-align: right;\n",
       "    }\n",
       "</style>\n",
       "<table border=\"1\" class=\"dataframe\">\n",
       "  <thead>\n",
       "    <tr style=\"text-align: right;\">\n",
       "      <th></th>\n",
       "      <th>language</th>\n",
       "      <th>author</th>\n",
       "      <th>title</th>\n",
       "      <th>length</th>\n",
       "      <th>unique</th>\n",
       "    </tr>\n",
       "  </thead>\n",
       "  <tbody>\n",
       "    <tr>\n",
       "      <th>1</th>\n",
       "      <td>English</td>\n",
       "      <td>Ws</td>\n",
       "      <td>R&amp;J Eng</td>\n",
       "      <td>40811</td>\n",
       "      <td>5129</td>\n",
       "    </tr>\n",
       "    <tr>\n",
       "      <th>2</th>\n",
       "      <td>English</td>\n",
       "      <td>Ws - copy</td>\n",
       "      <td>R&amp;J Eng - Copy</td>\n",
       "      <td>40811</td>\n",
       "      <td>5129</td>\n",
       "    </tr>\n",
       "    <tr>\n",
       "      <th>3</th>\n",
       "      <td>French</td>\n",
       "      <td>Ws</td>\n",
       "      <td>R&amp;J Fre</td>\n",
       "      <td>34910</td>\n",
       "      <td>10234</td>\n",
       "    </tr>\n",
       "    <tr>\n",
       "      <th>4</th>\n",
       "      <td>French</td>\n",
       "      <td>Ws - copy</td>\n",
       "      <td>R&amp;J Fre - Copy</td>\n",
       "      <td>34910</td>\n",
       "      <td>10234</td>\n",
       "    </tr>\n",
       "    <tr>\n",
       "      <th>5</th>\n",
       "      <td>German</td>\n",
       "      <td>Ws</td>\n",
       "      <td>R&amp;J Ger</td>\n",
       "      <td>20311</td>\n",
       "      <td>7523</td>\n",
       "    </tr>\n",
       "    <tr>\n",
       "      <th>6</th>\n",
       "      <td>German</td>\n",
       "      <td>Ws - copy</td>\n",
       "      <td>R&amp;J Ger - Copy</td>\n",
       "      <td>20311</td>\n",
       "      <td>7523</td>\n",
       "    </tr>\n",
       "    <tr>\n",
       "      <th>7</th>\n",
       "      <td>Spanish</td>\n",
       "      <td>Ws</td>\n",
       "      <td>R&amp;J Spa</td>\n",
       "      <td>72036</td>\n",
       "      <td>18424</td>\n",
       "    </tr>\n",
       "    <tr>\n",
       "      <th>8</th>\n",
       "      <td>Spanish</td>\n",
       "      <td>Ws - copy</td>\n",
       "      <td>R&amp;J Spa - Copy</td>\n",
       "      <td>72036</td>\n",
       "      <td>18424</td>\n",
       "    </tr>\n",
       "  </tbody>\n",
       "</table>\n",
       "</div>"
      ],
      "text/plain": [
       "  language     author           title length unique\n",
       "1  English         Ws         R&J Eng  40811   5129\n",
       "2  English  Ws - copy  R&J Eng - Copy  40811   5129\n",
       "3   French         Ws         R&J Fre  34910  10234\n",
       "4   French  Ws - copy  R&J Fre - Copy  34910  10234\n",
       "5   German         Ws         R&J Ger  20311   7523\n",
       "6   German  Ws - copy  R&J Ger - Copy  20311   7523\n",
       "7  Spanish         Ws         R&J Spa  72036  18424\n",
       "8  Spanish  Ws - copy  R&J Spa - Copy  72036  18424"
      ]
     },
     "execution_count": 24,
     "metadata": {},
     "output_type": "execute_result"
    }
   ],
   "source": [
    "stats"
   ]
  },
  {
   "cell_type": "code",
   "execution_count": 18,
   "metadata": {},
   "outputs": [
    {
     "data": {
      "text/html": [
       "<div>\n",
       "<style scoped>\n",
       "    .dataframe tbody tr th:only-of-type {\n",
       "        vertical-align: middle;\n",
       "    }\n",
       "\n",
       "    .dataframe tbody tr th {\n",
       "        vertical-align: top;\n",
       "    }\n",
       "\n",
       "    .dataframe thead th {\n",
       "        text-align: right;\n",
       "    }\n",
       "</style>\n",
       "<table border=\"1\" class=\"dataframe\">\n",
       "  <thead>\n",
       "    <tr style=\"text-align: right;\">\n",
       "      <th></th>\n",
       "      <th>language</th>\n",
       "      <th>author</th>\n",
       "      <th>title</th>\n",
       "      <th>length</th>\n",
       "      <th>unique</th>\n",
       "    </tr>\n",
       "  </thead>\n",
       "  <tbody>\n",
       "    <tr>\n",
       "      <th>1</th>\n",
       "      <td>English</td>\n",
       "      <td>WS</td>\n",
       "      <td>R&amp;J Eng.txt</td>\n",
       "      <td>40811</td>\n",
       "      <td>5129</td>\n",
       "    </tr>\n",
       "    <tr>\n",
       "      <th>2</th>\n",
       "      <td>English</td>\n",
       "      <td>WS - Copy</td>\n",
       "      <td>R&amp;J Eng - Copy.txt</td>\n",
       "      <td>40811</td>\n",
       "      <td>5129</td>\n",
       "    </tr>\n",
       "    <tr>\n",
       "      <th>3</th>\n",
       "      <td>French</td>\n",
       "      <td>WS</td>\n",
       "      <td>R&amp;J Fre.txt</td>\n",
       "      <td>34910</td>\n",
       "      <td>10234</td>\n",
       "    </tr>\n",
       "    <tr>\n",
       "      <th>4</th>\n",
       "      <td>French</td>\n",
       "      <td>WS - Copy</td>\n",
       "      <td>R&amp;J Fre - Copy.txt</td>\n",
       "      <td>34910</td>\n",
       "      <td>10234</td>\n",
       "    </tr>\n",
       "    <tr>\n",
       "      <th>5</th>\n",
       "      <td>German</td>\n",
       "      <td>WS</td>\n",
       "      <td>R&amp;J Ger.txt</td>\n",
       "      <td>20311</td>\n",
       "      <td>7523</td>\n",
       "    </tr>\n",
       "  </tbody>\n",
       "</table>\n",
       "</div>"
      ],
      "text/plain": [
       "  language     author               title length unique\n",
       "1  English         WS         R&J Eng.txt  40811   5129\n",
       "2  English  WS - Copy  R&J Eng - Copy.txt  40811   5129\n",
       "3   French         WS         R&J Fre.txt  34910  10234\n",
       "4   French  WS - Copy  R&J Fre - Copy.txt  34910  10234\n",
       "5   German         WS         R&J Ger.txt  20311   7523"
      ]
     },
     "execution_count": 18,
     "metadata": {},
     "output_type": "execute_result"
    }
   ],
   "source": [
    "stats.head()"
   ]
  },
  {
   "cell_type": "code",
   "execution_count": 19,
   "metadata": {},
   "outputs": [
    {
     "data": {
      "text/html": [
       "<div>\n",
       "<style scoped>\n",
       "    .dataframe tbody tr th:only-of-type {\n",
       "        vertical-align: middle;\n",
       "    }\n",
       "\n",
       "    .dataframe tbody tr th {\n",
       "        vertical-align: top;\n",
       "    }\n",
       "\n",
       "    .dataframe thead th {\n",
       "        text-align: right;\n",
       "    }\n",
       "</style>\n",
       "<table border=\"1\" class=\"dataframe\">\n",
       "  <thead>\n",
       "    <tr style=\"text-align: right;\">\n",
       "      <th></th>\n",
       "      <th>language</th>\n",
       "      <th>author</th>\n",
       "      <th>title</th>\n",
       "      <th>length</th>\n",
       "      <th>unique</th>\n",
       "    </tr>\n",
       "  </thead>\n",
       "  <tbody>\n",
       "    <tr>\n",
       "      <th>4</th>\n",
       "      <td>French</td>\n",
       "      <td>WS - Copy</td>\n",
       "      <td>R&amp;J Fre - Copy.txt</td>\n",
       "      <td>34910</td>\n",
       "      <td>10234</td>\n",
       "    </tr>\n",
       "    <tr>\n",
       "      <th>5</th>\n",
       "      <td>German</td>\n",
       "      <td>WS</td>\n",
       "      <td>R&amp;J Ger.txt</td>\n",
       "      <td>20311</td>\n",
       "      <td>7523</td>\n",
       "    </tr>\n",
       "    <tr>\n",
       "      <th>6</th>\n",
       "      <td>German</td>\n",
       "      <td>WS - Copy</td>\n",
       "      <td>R&amp;J Ger - Copy.txt</td>\n",
       "      <td>20311</td>\n",
       "      <td>7523</td>\n",
       "    </tr>\n",
       "    <tr>\n",
       "      <th>7</th>\n",
       "      <td>Spanish</td>\n",
       "      <td>WS</td>\n",
       "      <td>R&amp;J Spa.txt</td>\n",
       "      <td>72036</td>\n",
       "      <td>18424</td>\n",
       "    </tr>\n",
       "    <tr>\n",
       "      <th>8</th>\n",
       "      <td>Spanish</td>\n",
       "      <td>WS - Copy</td>\n",
       "      <td>R&amp;J Spa - Copy.txt</td>\n",
       "      <td>72036</td>\n",
       "      <td>18424</td>\n",
       "    </tr>\n",
       "  </tbody>\n",
       "</table>\n",
       "</div>"
      ],
      "text/plain": [
       "  language     author               title length unique\n",
       "4   French  WS - Copy  R&J Fre - Copy.txt  34910  10234\n",
       "5   German         WS         R&J Ger.txt  20311   7523\n",
       "6   German  WS - Copy  R&J Ger - Copy.txt  20311   7523\n",
       "7  Spanish         WS         R&J Spa.txt  72036  18424\n",
       "8  Spanish  WS - Copy  R&J Spa - Copy.txt  72036  18424"
      ]
     },
     "execution_count": 19,
     "metadata": {},
     "output_type": "execute_result"
    }
   ],
   "source": [
    "stats.tail()"
   ]
  },
  {
   "cell_type": "code",
   "execution_count": 25,
   "metadata": {},
   "outputs": [
    {
     "data": {
      "text/plain": [
       "1    40811\n",
       "2    40811\n",
       "3    34910\n",
       "4    34910\n",
       "5    20311\n",
       "6    20311\n",
       "7    72036\n",
       "8    72036\n",
       "Name: length, dtype: object"
      ]
     },
     "execution_count": 25,
     "metadata": {},
     "output_type": "execute_result"
    }
   ],
   "source": [
    "stats.length"
   ]
  },
  {
   "cell_type": "code",
   "execution_count": 26,
   "metadata": {},
   "outputs": [
    {
     "data": {
      "text/plain": [
       "1     5129\n",
       "2     5129\n",
       "3    10234\n",
       "4    10234\n",
       "5     7523\n",
       "6     7523\n",
       "7    18424\n",
       "8    18424\n",
       "Name: unique, dtype: object"
      ]
     },
     "execution_count": 26,
     "metadata": {},
     "output_type": "execute_result"
    }
   ],
   "source": [
    "stats.unique"
   ]
  },
  {
   "cell_type": "code",
   "execution_count": 27,
   "metadata": {},
   "outputs": [],
   "source": [
    "import matplotlib.pyplot as plt"
   ]
  },
  {
   "cell_type": "code",
   "execution_count": 28,
   "metadata": {},
   "outputs": [
    {
     "data": {
      "text/plain": [
       "[<matplotlib.lines.Line2D at 0x2759acfa048>]"
      ]
     },
     "execution_count": 28,
     "metadata": {},
     "output_type": "execute_result"
    },
    {
     "data": {
      "image/png": "[encoded data removed]",
      "text/plain": [
       "<Figure size 432x288 with 1 Axes>"
      ]
     },
     "metadata": {
      "needs_background": "light"
     },
     "output_type": "display_data"
    }
   ],
   "source": [
    "plt.plot(stats.length, stats.unique, \"bo\")"
   ]
  },
  {
   "cell_type": "code",
   "execution_count": 29,
   "metadata": {},
   "outputs": [
    {
     "data": {
      "text/plain": [
       "[<matplotlib.lines.Line2D at 0x2759ae45948>]"
      ]
     },
     "execution_count": 29,
     "metadata": {},
     "output_type": "execute_result"
    },
    {
     "data": {
      "image/png": "[encoded data removed]",
      "text/plain": [
       "<Figure size 432x288 with 1 Axes>"
      ]
     },
     "metadata": {
      "needs_background": "light"
     },
     "output_type": "display_data"
    }
   ],
   "source": [
    "plt.loglog(stats.length, stats.unique, \"bo\")"
   ]
  },
  {
   "cell_type": "code",
   "execution_count": 30,
   "metadata": {},
   "outputs": [
    {
     "data": {
      "text/html": [
       "<div>\n",
       "<style scoped>\n",
       "    .dataframe tbody tr th:only-of-type {\n",
       "        vertical-align: middle;\n",
       "    }\n",
       "\n",
       "    .dataframe tbody tr th {\n",
       "        vertical-align: top;\n",
       "    }\n",
       "\n",
       "    .dataframe thead th {\n",
       "        text-align: right;\n",
       "    }\n",
       "</style>\n",
       "<table border=\"1\" class=\"dataframe\">\n",
       "  <thead>\n",
       "    <tr style=\"text-align: right;\">\n",
       "      <th></th>\n",
       "      <th>language</th>\n",
       "      <th>author</th>\n",
       "      <th>title</th>\n",
       "      <th>length</th>\n",
       "      <th>unique</th>\n",
       "    </tr>\n",
       "  </thead>\n",
       "  <tbody>\n",
       "    <tr>\n",
       "      <th>1</th>\n",
       "      <td>English</td>\n",
       "      <td>Ws</td>\n",
       "      <td>R&amp;J Eng</td>\n",
       "      <td>40811</td>\n",
       "      <td>5129</td>\n",
       "    </tr>\n",
       "    <tr>\n",
       "      <th>2</th>\n",
       "      <td>English</td>\n",
       "      <td>Ws - copy</td>\n",
       "      <td>R&amp;J Eng - Copy</td>\n",
       "      <td>40811</td>\n",
       "      <td>5129</td>\n",
       "    </tr>\n",
       "  </tbody>\n",
       "</table>\n",
       "</div>"
      ],
      "text/plain": [
       "  language     author           title length unique\n",
       "1  English         Ws         R&J Eng  40811   5129\n",
       "2  English  Ws - copy  R&J Eng - Copy  40811   5129"
      ]
     },
     "execution_count": 30,
     "metadata": {},
     "output_type": "execute_result"
    }
   ],
   "source": [
    "stats[stats.language == \"English\"]"
   ]
  },
  {
   "cell_type": "code",
   "execution_count": 33,
   "metadata": {},
   "outputs": [
    {
     "data": {
      "image/png": "[encoded data removed]",
      "text/plain": [
       "<Figure size 720x720 with 1 Axes>"
      ]
     },
     "metadata": {
      "needs_background": "light"
     },
     "output_type": "display_data"
    }
   ],
   "source": [
    "plt.figure(figsize = (10, 10))\n",
    "subset = stats[stats.language == \"English\"]\n",
    "plt.loglog(subset.length, subset.unique, \"o\", label = \"English\", color = \"crimson\")\n",
    "\n",
    "subset = stats[stats.language == \"French\"]\n",
    "plt.loglog(subset.length, subset.unique, \"o\", label = \"French\", color = \"forestgreen\")\n",
    "\n",
    "subset = stats[stats.language == \"German\"]\n",
    "plt.loglog(subset.length, subset.unique, \"o\", label = \"German\", color = \"orange\")\n",
    "\n",
    "subset = stats[stats.language == \"Spanish\"]\n",
    "plt.loglog(subset.length, subset.unique, \"o\", label = \"Spanish\", color = \"blueviolet\")\n",
    "plt.legend()\n",
    "plt.xlabel(\"Book Length\")\n",
    "plt.ylabel(\"Number of Unique Words\")\n",
    "plt.savefig(\"langplot.pdf\")\n"
   ]
  },
  {
   "cell_type": "code",
   "execution_count": 35,
   "metadata": {},
   "outputs": [
    {
     "ename": "NameError",
     "evalue": "name 'length' is not defined",
     "output_type": "error",
     "traceback": [
      "\u001b[1;31m---------------------------------------------------------------------------\u001b[0m",
      "\u001b[1;31mNameError\u001b[0m                                 Traceback (most recent call last)",
      "\u001b[1;32m<ipython-input-35-1feed876a6db>\u001b[0m in \u001b[0;36m<module>\u001b[1;34m\u001b[0m\n\u001b[1;32m----> 1\u001b[1;33m \u001b[0mstats\u001b[0m\u001b[1;33m[\u001b[0m\u001b[0mlength\u001b[0m\u001b[1;33m]\u001b[0m\u001b[1;33m\u001b[0m\u001b[1;33m\u001b[0m\u001b[0m\n\u001b[0m",
      "\u001b[1;31mNameError\u001b[0m: name 'length' is not defined"
     ]
    }
   ],
   "source": [
    "stats[length]"
   ]
  },
  {
   "cell_type": "code",
   "execution_count": null,
   "metadata": {},
   "outputs": [],
   "source": []
  }
 ],
 "metadata": {
  "kernelspec": {
   "display_name": "Python 3",
   "language": "python",
   "name": "python3"
  },
  "language_info": {
   "codemirror_mode": {
    "name": "ipython",
    "version": 3
   },
   "file_extension": ".py",
   "mimetype": "text/x-python",
   "name": "python",
   "nbconvert_exporter": "python",
   "pygments_lexer": "ipython3",
   "version": "3.8.3"
  }
 },
 "nbformat": 4,
 "nbformat_minor": 4
}
