{
 "cells": [
  {
   "cell_type": "markdown",
   "metadata": {},
   "source": [
    "# GRADED ASSIGNMENT - 2\n",
    "\n",
    "IMPLEMENT GRAPH ALGORITHM :\n",
    "\n",
    "Consider the following graph:\n",
    "\n",
    "![img](./Graph.jpeg)\n",
    "\n",
    "\n",
    "1. Represent the Graph using Adjacency Matrix and List.\n",
    "2. Find the shortest path using Dijkstra Algorithm:\n",
    "    1.  from Node E to Node C. \n",
    "    2.  from Node D to Node A.\n",
    "3. Find a Spanning Tree for the Graph and find the total weight.\n",
    "\n",
    "\n",
    "Here’s the pseudocode for Dijsktra’s Algorithm:\n",
    "\n",
    "1. Create a list of “distances” equal to the number of nodes and initialize each value to infinity\n",
    "2. Set the “distance” to the starting node equal to 0\n",
    "3. Create a list of “visited” nodes set to false for each node (since we haven’t visited any yet)\n",
    "4. Loop through all the nodes\n",
    "    1. Loop through all the nodes again, and pick the one that is the shortest distance away and not yet visited\n",
    "    2. Set that node to visited\n",
    "    3. Set the distance in the distance list to the distance to that node\n",
    "5. The original “distance” list should now contain the shortest distance to each node or infinity if a node is unreachable from the desired starting node"
   ]
  },
  {
   "cell_type": "markdown",
   "metadata": {},
   "source": [
    "### Adjacency List to Adjacency Matrix"
   ]
  },
  {
   "cell_type": "code",
   "execution_count": 3,
   "metadata": {},
   "outputs": [],
   "source": [
    "from collections import defaultdict"
   ]
  },
  {
   "cell_type": "code",
   "execution_count": 4,
   "metadata": {},
   "outputs": [],
   "source": [
    "class Node:\n",
    "    def __init__(self, data, indexLoc = None):\n",
    "        self.data = data\n",
    "        self.indexLoc = indexLoc"
   ]
  },
  {
   "cell_type": "code",
   "execution_count": 10,
   "metadata": {},
   "outputs": [],
   "source": [
    "class Graph:\n",
    "\n",
    "    @classmethod\n",
    "    def create_from_nodes(self, nodes):\n",
    "        return Graph(len(nodes), len(nodes), nodes)\n",
    "\n",
    "  \n",
    "    def __init__(self, row, col, nodes = None):\n",
    "        # set up an adjacency matrix\n",
    "        self.adj_mat = [[0] * col for _ in range(row)]\n",
    "        self.nodes = nodes\n",
    "        for i in range(len(self.nodes)):\n",
    "            self.nodes[i].index = i\n",
    "\n",
    "    # Conncects from node1 to node2\n",
    "    # Note row is source, column is destination\n",
    "    # Updated to allow weighted edges (supporting dijkstra's alg)\n",
    "    def connect_dir(self, node1, node2, weight = 1):\n",
    "        node1, node2 = self.get_index_from_node(node1), self.get_index_from_node(node2)\n",
    "        self.adj_mat[node1][node2] = weight\n",
    "  \n",
    "    # Optional weight argument to support dijkstra's alg\n",
    "    def connect(self, node1, node2, weight = 1):\n",
    "        self.connect_dir(node1, node2, weight)\n",
    "        self.connect_dir(node2, node1, weight)\n",
    "\n",
    "    # Get node row, map non-zero items to their node in the self.nodes array\n",
    "    # Select any non-zero elements, leaving you with an array of nodes\n",
    "    # which are connections_to (for a directed graph)\n",
    "    # Return value: array of tuples (node, weight)\n",
    "    def connections_from(self, node):\n",
    "        node = self.get_index_from_node(node)\n",
    "        return [(self.nodes[col_num], self.adj_mat[node][col_num]) for col_num in range(len(self.adj_mat[node])) if self.adj_mat[node][col_num] != 0]\n",
    "\n",
    "    # Map matrix to column of node\n",
    "    # Map any non-zero elements to the node at that row index\n",
    "    # Select only non-zero elements\n",
    "    # Note for a non-directed graph, you can use connections_to OR\n",
    "    # connections_from\n",
    "    # Return value: array of tuples (node, weight)\n",
    "    def connections_to(self, node):\n",
    "      node = self.get_index_from_node(node)\n",
    "      column = [row[node] for row in self.adj_mat]\n",
    "      return [(self.nodes[row_num], column[row_num]) for row_num in range(len(column)) if column[row_num] != 0]\n",
    "     \n",
    "  \n",
    "    def print_adj_mat(self):\n",
    "      for row in self.adj_mat:\n",
    "          print(row)\n",
    "  \n",
    "    def node(self, index):\n",
    "      return self.nodes[index]\n",
    "    \n",
    "  \n",
    "    def remove_conn(self, node1, node2):\n",
    "      self.remove_conn_dir(node1, node2)\n",
    "      self.remove_conn_dir(node2, node1)\n",
    "   \n",
    "    # Remove connection in a directed manner (nod1 to node2)\n",
    "    # Can accept index number OR node object\n",
    "    def remove_conn_dir(self, node1, node2):\n",
    "      node1, node2 = self.get_index_from_node(node1), self.get_index_from_node(node2)\n",
    "      self.adj_mat[node1][node2] = 0   \n",
    "  \n",
    "    # Can go from node 1 to node 2?\n",
    "    def can_traverse_dir(self, node1, node2):\n",
    "      node1, node2 = self.get_index_from_node(node1), self.get_index_from_node(node2)\n",
    "      return self.adj_mat[node1][node2] != 0  \n",
    "  \n",
    "    def has_conn(self, node1, node2):\n",
    "      return self.can_traverse_dir(node1, node2) or self.can_traverse_dir(node2, node1)\n",
    "  \n",
    "    def add_node(self,node):\n",
    "      self.nodes.append(node)\n",
    "      node.index = len(self.nodes) - 1\n",
    "      for row in self.adj_mat:\n",
    "        row.append(0)     \n",
    "      self.adj_mat.append([0] * (len(self.adj_mat) + 1))\n",
    "\n",
    "    # Get the weight associated with travelling from n1\n",
    "    # to n2. Can accept index numbers OR node objects\n",
    "    def get_weight(self, n1, n2):\n",
    "        node1, node2 = self.get_index_from_node(n1), self.get_index_from_node(n2)\n",
    "        return self.adj_mat[node1][node2]\n",
    "  \n",
    "    # Allows either node OR node indices to be passed into \n",
    "    def get_index_from_node(self, node):\n",
    "        if not isinstance(node, Node) and not isinstance(node, int):\n",
    "            raise ValueError(\"node must be an integer or a Node object\")\n",
    "        if isinstance(node, int):\n",
    "            return node\n",
    "        else:\n",
    "            return node.index"
   ]
  },
  {
   "cell_type": "code",
   "execution_count": 12,
   "metadata": {},
   "outputs": [
    {
     "name": "stdout",
     "output_type": "stream",
     "text": [
      "[0, 3, 6, 6, 1]\n",
      "[3, 0, 2, 5, 4]\n",
      "[6, 2, 0, 6, 5]\n",
      "[6, 5, 6, 0, 4]\n",
      "[1, 4, 5, 4, 0]\n"
     ]
    }
   ],
   "source": [
    "a = Node(\"A\")\n",
    "b = Node(\"B\")\n",
    "c = Node(\"C\")\n",
    "d = Node(\"D\")\n",
    "e = Node(\"E\")\n",
    "\n",
    "graph = Graph.create_from_nodes([a,b,c,d,e])\n",
    "\n",
    "graph.connect(a,b,3)\n",
    "graph.connect(a,c,6)\n",
    "graph.connect(a,d,6)\n",
    "graph.connect(a,e,1)\n",
    "graph.connect(b,c,2)\n",
    "graph.connect(b,d,5)\n",
    "graph.connect(b,e,4)\n",
    "graph.connect(c,d,6)\n",
    "graph.connect(c,e,5)\n",
    "graph.connect(d,e,4)\n",
    "\n",
    "graph.print_adj_mat()"
   ]
  },
  {
   "cell_type": "markdown",
   "metadata": {},
   "source": [
    "## Dijkstra Algorithm"
   ]
  },
  {
   "cell_type": "code",
   "execution_count": 29,
   "metadata": {},
   "outputs": [],
   "source": [
    "class Graph:\n",
    " \n",
    "    # A utility function to find the\n",
    "    # vertex with minimum dist value, from\n",
    "    # the set of vertices still in queue\n",
    "    def minDistance(self,dist,queue):\n",
    "        # Initialize min value and min_index as -1\n",
    "        minimum = float(\"Inf\")\n",
    "        min_index = -1\n",
    "         \n",
    "        # from the dist array,pick one which\n",
    "        # has min value and is till in queue\n",
    "        for i in range(len(dist)):\n",
    "            if dist[i] < minimum and i in queue:\n",
    "                minimum = dist[i]\n",
    "                min_index = i\n",
    "        return min_index\n",
    " \n",
    " \n",
    "    # Function to print shortest path\n",
    "    # from source to j\n",
    "    # using parent array\n",
    "    def printPath(self, parent, j):\n",
    "         \n",
    "        #Base Case : If j is source\n",
    "        if parent[j] == -1 :\n",
    "            print(j,end=\" \")\n",
    "            return\n",
    "        self.printPath(parent , parent[j])\n",
    "        print (j,end=\" \")\n",
    "         \n",
    " \n",
    "    # A utility function to print\n",
    "    # the constructed distance\n",
    "    # array\n",
    "    def printSolution(self, dist, parent, src):\n",
    "        src = src\n",
    "        print(\"Vertex \\t\\tDistance from Source\\tPath\")\n",
    "        for i in range(0, len(dist)):\n",
    "            print(\"\\n%d --> %d \\t\\t%d \\t\\t\" % (src, i, dist[i]),end=\" \")\n",
    "            self.printPath(parent,i)\n",
    " \n",
    " \n",
    "    '''Function that implements Dijkstra's single source shortest path\n",
    "    algorithm for a graph represented using adjacency matrix\n",
    "    representation'''\n",
    "    def dijkstra(self, graph, src):\n",
    " \n",
    "        row = len(graph)\n",
    "        col = len(graph[0])\n",
    " \n",
    "        # The output array. dist[i] will hold\n",
    "        # the shortest distance from src to i\n",
    "        # Initialize all distances as INFINITE\n",
    "        dist = [float(\"Inf\")] * row\n",
    " \n",
    "        #Parent array to store\n",
    "        # shortest path tree\n",
    "        parent = [-1] * row\n",
    " \n",
    "        # Distance of source vertex\n",
    "        # from itself is always 0\n",
    "        dist[src] = 0\n",
    "     \n",
    "        # Add all vertices in queue\n",
    "        queue = []\n",
    "        for i in range(row):\n",
    "            queue.append(i)\n",
    "             \n",
    "        #Find shortest path for all vertices\n",
    "        while queue:\n",
    " \n",
    "            # Pick the minimum dist vertex\n",
    "            # from the set of vertices\n",
    "            # still in queue\n",
    "            u = self.minDistance(dist,queue)\n",
    " \n",
    "            # remove min element    \n",
    "            queue.remove(u)\n",
    " \n",
    "            # Update dist value and parent\n",
    "            # index of the adjacent vertices of\n",
    "            # the picked vertex. Consider only\n",
    "            # those vertices which are still in\n",
    "            # queue\n",
    "            for i in range(col):\n",
    "                '''Update dist[i] only if it is in queue, there is\n",
    "                an edge from u to i, and total weight of path from\n",
    "                src to i through u is smaller than current value of\n",
    "                dist[i]'''\n",
    "                if graph[u][i] and i in queue:\n",
    "                    if dist[u] + graph[u][i] < dist[i]:\n",
    "                        dist[i] = dist[u] + graph[u][i]\n",
    "                        parent[i] = u\n",
    " \n",
    " \n",
    "        # print the constructed distance array\n",
    "        self.printSolution(dist,parent, src)"
   ]
  },
  {
   "cell_type": "code",
   "execution_count": 31,
   "metadata": {},
   "outputs": [],
   "source": [
    "g= Graph()\n",
    " \n",
    "graph = [[0, 3, 6, 6, 1],\n",
    "         [3, 0, 2, 5, 4],\n",
    "         [6, 2, 0, 6, 5],\n",
    "         [6, 5, 6, 0, 4],\n",
    "         [1, 4, 5, 4, 0]]"
   ]
  },
  {
   "cell_type": "markdown",
   "metadata": {},
   "source": [
    "### From Node E"
   ]
  },
  {
   "cell_type": "code",
   "execution_count": 32,
   "metadata": {},
   "outputs": [
    {
     "name": "stdout",
     "output_type": "stream",
     "text": [
      "Vertex \t\tDistance from Source\tPath\n",
      "\n",
      "4 --> 0 \t\t1 \t\t 4 0 \n",
      "4 --> 1 \t\t4 \t\t 4 1 \n",
      "4 --> 2 \t\t5 \t\t 4 2 \n",
      "4 --> 3 \t\t4 \t\t 4 3 \n",
      "4 --> 4 \t\t0 \t\t 4 "
     ]
    }
   ],
   "source": [
    "# Print the solution\n",
    "g.dijkstra(graph,4)"
   ]
  },
  {
   "cell_type": "markdown",
   "metadata": {},
   "source": [
    "We can see that:\n",
    "\n",
    "|4 --> 2 \t|\t5 \t|\t 4 2|\n",
    "\n",
    "So, from E to C, we have to followthe direct path with minimum distance = 5"
   ]
  },
  {
   "cell_type": "markdown",
   "metadata": {},
   "source": [
    "### From Node D"
   ]
  },
  {
   "cell_type": "code",
   "execution_count": 33,
   "metadata": {},
   "outputs": [
    {
     "name": "stdout",
     "output_type": "stream",
     "text": [
      "Vertex \t\tDistance from Source\tPath\n",
      "\n",
      "3 --> 0 \t\t5 \t\t 3 4 0 \n",
      "3 --> 1 \t\t5 \t\t 3 1 \n",
      "3 --> 2 \t\t6 \t\t 3 2 \n",
      "3 --> 3 \t\t0 \t\t 3 \n",
      "3 --> 4 \t\t4 \t\t 3 4 "
     ]
    }
   ],
   "source": [
    "# Print the solution\n",
    "g.dijkstra(graph,3)"
   ]
  },
  {
   "cell_type": "markdown",
   "metadata": {},
   "source": [
    "We can see that:\n",
    "\n",
    "|3 --> 0 \t|\t5 \t|\t 3 4 0|\n",
    "\n",
    "So, from D to A, we have to go through 4 with a minimum distance of 5"
   ]
  }
 ],
 "metadata": {
  "interpreter": {
   "hash": "4ee915b603d310a130ac14c22c060351c31c866e2af29f7ee966b3d55f25a8c2"
  },
  "kernelspec": {
   "display_name": "Python 3.8.8 ('base')",
   "language": "python",
   "name": "python3"
  },
  "language_info": {
   "codemirror_mode": {
    "name": "ipython",
    "version": 3
   },
   "file_extension": ".py",
   "mimetype": "text/x-python",
   "name": "python",
   "nbconvert_exporter": "python",
   "pygments_lexer": "ipython3",
   "version": "3.8.8"
  },
  "orig_nbformat": 4
 },
 "nbformat": 4,
 "nbformat_minor": 2
}
