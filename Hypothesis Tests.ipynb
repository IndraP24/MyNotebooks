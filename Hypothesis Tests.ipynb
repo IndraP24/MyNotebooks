{
 "cells": [
  {
   "cell_type": "markdown",
   "metadata": {},
   "source": [
    "# Hypothesis Tests Implementation using Python"
   ]
  },
  {
   "cell_type": "code",
   "execution_count": 27,
   "metadata": {},
   "outputs": [],
   "source": [
    "import numpy as np\n",
    "from scipy.stats import chi2_contingency, ttest_1samp\n",
    "from statsmodels.stats.weightstats import ztest"
   ]
  },
  {
   "cell_type": "markdown",
   "metadata": {},
   "source": [
    "### Chi-Squared Test\n",
    "Tests whether two categorical variables are related or independent.\n",
    "\n",
    "Assumptions:\n",
    "\n",
    "- Observations used in the calculation of the contingency table are independent.\n",
    "- 25 or more examples in each cell of the contingency table.\n",
    "\n",
    "\n",
    "Interpretation:\n",
    "\n",
    "- H0: the two samples are independent.\n",
    "- H1: there is a dependency between the samples.\n",
    "\n",
    "Test statistic:\n",
    "\n",
    "$$ \\chi^2 = \\sum_{i,j}\\frac{(O_{i,j} - \\hat{E}_{i,j})^2}{\\hat{E}_{i,j}} $$"
   ]
  },
  {
   "cell_type": "code",
   "execution_count": 32,
   "metadata": {},
   "outputs": [
    {
     "name": "stdout",
     "output_type": "stream",
     "text": [
      "[[120  90  40]\n",
      " [110  95  45]]\n",
      "stat = 0.864, p = 0.649\n",
      "Failed to reject H0: Samples are independent\n"
     ]
    }
   ],
   "source": [
    "# contingency table\n",
    "data = np.array([[120, 90, 40],\n",
    "        [110, 95, 45]])\n",
    "print(data)\n",
    "stat, p, dof, expected = chi2_contingency(data)\n",
    "print('stat = %.3f, p = %.3f' % (stat, p))\n",
    "if p > 0.05:\n",
    "\tprint('Failed to reject H0: Samples are independent')\n",
    "else:\n",
    "\tprint('H0 Rejected: Samples are dependent')"
   ]
  },
  {
   "cell_type": "markdown",
   "metadata": {},
   "source": [
    "Since the p-value (.649) of the test is not less than 0.05, we fail to reject the null hypothesis. "
   ]
  },
  {
   "cell_type": "markdown",
   "metadata": {},
   "source": [
    "### T-Test\n",
    "Tests whether the sample mean is statistically different from a known or hypothesised population mean.\n",
    "\n",
    "Assumptions:\n",
    "- Population distributions are normal\n",
    "- Samples have equal variances\n",
    "- The two samples are independent\n",
    "- The population standard deviation is not known / the sample standard deviation is used\n",
    "\n",
    "Interpretation:\n",
    "- H0: The known assumed mean is equal to the expected sample mean\n",
    "- H1: The known assumed mean is not equal to the expected sample mean\n",
    "\n",
    "Test statstic:\n",
    "$$T = \\frac{\\bar{X} - \\mu}{\\frac{\\sigma}{\\sqrt{N}}}$$"
   ]
  },
  {
   "cell_type": "code",
   "execution_count": 34,
   "metadata": {},
   "outputs": [
    {
     "name": "stdout",
     "output_type": "stream",
     "text": [
      "The data randomly distributed between 20 and 30 are:  [29 29 23 28 27 29 29 23 23 27 24 28 25 22 22 27 21 25 26 22]\n"
     ]
    }
   ],
   "source": [
    "data = np.random.randint(20, 30, size=(20))\n",
    "print(\"The data randomly distributed between 20 and 30 are: \", data)"
   ]
  },
  {
   "cell_type": "code",
   "execution_count": 35,
   "metadata": {},
   "outputs": [
    {
     "name": "stdout",
     "output_type": "stream",
     "text": [
      "Mean of the data:  25.45\n",
      "Testing the Sample with an assumed mean of 25\n",
      "stat = 0.724, p = 0.478\n",
      "Failed to reject H0: The known assumed mean is equal to the expected sample mean\n"
     ]
    }
   ],
   "source": [
    "data_mean = np.mean(data)\n",
    "print(\"Mean of the data: \", data_mean)\n",
    "print(\"Testing the Sample with an assumed mean of 25\")\n",
    "tset, pval = ttest_1samp(data, 25)\n",
    "print('stat = %.3f, p = %.3f' % (tset, pval))\n",
    "if pval > 0.05:\n",
    "\tprint('Failed to reject H0: The known assumed mean is equal to the expected sample mean')\n",
    "else:\n",
    "\tprint('H0 Rejected: The known assumed mean is not equal to the expected sample mean')"
   ]
  },
  {
   "cell_type": "markdown",
   "metadata": {},
   "source": [
    "### Z-Test\n",
    "Tests whether two sample means are approximately the same or different when their variance is known and the sample size is large (should be >= 30)\n",
    "\n",
    "Assumptions:\n",
    "- The two samples are independent\n",
    "- The population variance is known\n",
    "- The sample size is large\n",
    "\n",
    "Interpretation:\n",
    "- H0: The known assumed mean is equal to the expected sample mean\n",
    "- H1: The known assumed mean is larger than to the expected sample mean\n",
    " \n",
    "Test statstic:\n",
    "$$T = \\frac{\\bar{X} - \\mu}{\\frac{\\sigma}{\\sqrt{N}}}$$"
   ]
  },
  {
   "cell_type": "code",
   "execution_count": 60,
   "metadata": {},
   "outputs": [
    {
     "name": "stdout",
     "output_type": "stream",
     "text": [
      "The 50 data randomly sampled from the 'standard normal' distribution are: \n",
      " [105.72079612  77.29111111 101.64576895 101.60891679  77.18732548\n",
      "  98.66849317  85.36956341  90.96426974 117.130895   105.87871293\n",
      " 102.05520568  91.12885397 101.57850652 101.15981363 112.06194031\n",
      "  84.59467265 111.29664749  98.98304705 126.78205818 121.81068045\n",
      "  98.00456923 117.16212387 105.89468253 105.15019511 119.63815283\n",
      "  82.50258047  76.82717293  65.65051216  98.30898489 106.90534966\n",
      " 112.74943883  88.87732915  93.90471398  99.47712548  81.57373683\n",
      "  84.29942799 117.70983087  90.13335387 109.49975705  97.68070926\n",
      " 104.07899638 122.75635205  97.39811195  79.91255871 103.39248619\n",
      "  73.36506844 111.39959981 110.44923095 119.2030554  114.20915758]\n",
      "mean = 100.02 std = 14.28\n"
     ]
    }
   ],
   "source": [
    "# Generate a random array of 50 numbers having mean 100 and sd 15\n",
    "\n",
    "data = np.random.normal(100, 15, size=50)\n",
    "\n",
    "print(\"The 50 data randomly sampled from the 'standard normal' distribution are: \\n\", data)\n",
    "# print mean and sd\n",
    "print('mean = %.2f std = %.2f' % (np.mean(data), np.std(data)))"
   ]
  },
  {
   "cell_type": "code",
   "execution_count": 61,
   "metadata": {},
   "outputs": [
    {
     "name": "stdout",
     "output_type": "stream",
     "text": [
      "stat = 0.010, p = 0.496\n",
      "Failed to reject H0: The known assumed mean is equal to the expected sample mean\n"
     ]
    }
   ],
   "source": [
    "assumed_mean =100\n",
    "z_score, p_value= ztest(data, value = assumed_mean, alternative='larger')\n",
    "print('stat = %.3f, p = %.3f' % (z_score, p_value))\n",
    "\n",
    "if p_value > 0.05:\n",
    "\tprint('Failed to reject H0: The known assumed mean is equal to the expected sample mean')\n",
    "else:\n",
    "\tprint('H0 Rejected: The known assumed mean is larger than the expected sample mean')"
   ]
  }
 ],
 "metadata": {
  "interpreter": {
   "hash": "4ee915b603d310a130ac14c22c060351c31c866e2af29f7ee966b3d55f25a8c2"
  },
  "kernelspec": {
   "display_name": "Python 3.8.8 ('base')",
   "language": "python",
   "name": "python3"
  },
  "language_info": {
   "codemirror_mode": {
    "name": "ipython",
    "version": 3
   },
   "file_extension": ".py",
   "mimetype": "text/x-python",
   "name": "python",
   "nbconvert_exporter": "python",
   "pygments_lexer": "ipython3",
   "version": "3.8.8"
  },
  "orig_nbformat": 4
 },
 "nbformat": 4,
 "nbformat_minor": 2
}
