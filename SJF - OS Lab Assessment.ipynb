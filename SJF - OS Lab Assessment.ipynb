{
 "cells": [
  {
   "cell_type": "code",
   "execution_count": 1,
   "metadata": {},
   "outputs": [],
   "source": [
    "import pandas as pd"
   ]
  },
  {
   "cell_type": "code",
   "execution_count": 2,
   "metadata": {},
   "outputs": [],
   "source": [
    "def WT(n, bt, wt):\n",
    "    #waiting time for first process is 0\n",
    "    wt[0] = 0\n",
    "\n",
    "    #calculating waiting time\n",
    "    for i in range(1, n):\n",
    "        wt[i] = bt[i - 1] + wt[i - 1]"
   ]
  },
  {
   "cell_type": "code",
   "execution_count": 3,
   "metadata": {},
   "outputs": [],
   "source": [
    "def TAT(n, bt, wt, tat):\n",
    "    #calculatinng turn-around time by adding bt[i] + wt[i]\n",
    "    for i in range(1, n):\n",
    "        tat[i] = wt[i] + bt[i]"
   ]
  },
  {
   "cell_type": "code",
   "execution_count": 4,
   "metadata": {},
   "outputs": [],
   "source": [
    "def avgTime(processes, n, bt):\n",
    "    wt = [0] * n\n",
    "    tat = [0] * n\n",
    "    total_wt = 0\n",
    "    total_tat = 0\n",
    "\n",
    "    #sorting the processes according to their burst times\n",
    "    sort_processes = [processes[bt.index(i)] for i in sorted(bt)]\n",
    "\n",
    "    #Finding waiting time of all processes\n",
    "    WT(n, sorted(bt), wt)\n",
    "\n",
    "    #Finding turn-around time for all processes\n",
    "    TAT(n, sorted(bt), wt, tat)\n",
    "\n",
    "    data = pd.DataFrame({\n",
    "        \"Process\":sort_processes,\n",
    "        \"Process Burst Time\":sorted(bt),\n",
    "        \"Waiting Time\":wt,\n",
    "        \"Turn Around Time\":tat\n",
    "    })\n",
    "\n",
    "    #calculating total turn-around time and total waiting time\n",
    "    for i in range(n):\n",
    "        total_wt = total_wt + wt[i]\n",
    "        total_tat = total_tat + tat[i]\n",
    "\n",
    "    return data, total_wt/n, total_tat/n"
   ]
  },
  {
   "cell_type": "code",
   "execution_count": 5,
   "metadata": {},
   "outputs": [],
   "source": [
    "# process id's \n",
    "processes = [ 1, 2, 3, 4, 5] \n",
    "n = len(processes) \n",
    "  \n",
    "# Burst time of all processes \n",
    "burst_time = [10, 3, 2, 1, 5] \n",
    "\n",
    "# Priority Order\n",
    "pr = [3, 1, 4, 5, 2]"
   ]
  },
  {
   "cell_type": "code",
   "execution_count": 6,
   "metadata": {},
   "outputs": [
    {
     "name": "stdout",
     "output_type": "stream",
     "text": [
      "Average Waiting Time: 4.2 \n",
      "Average Turn Around Time: 8.2\n"
     ]
    },
    {
     "data": {
      "text/html": [
       "<div>\n",
       "<style scoped>\n",
       "    .dataframe tbody tr th:only-of-type {\n",
       "        vertical-align: middle;\n",
       "    }\n",
       "\n",
       "    .dataframe tbody tr th {\n",
       "        vertical-align: top;\n",
       "    }\n",
       "\n",
       "    .dataframe thead th {\n",
       "        text-align: right;\n",
       "    }\n",
       "</style>\n",
       "<table border=\"1\" class=\"dataframe\">\n",
       "  <thead>\n",
       "    <tr style=\"text-align: right;\">\n",
       "      <th></th>\n",
       "      <th>Process</th>\n",
       "      <th>Process Burst Time</th>\n",
       "      <th>Waiting Time</th>\n",
       "      <th>Turn Around Time</th>\n",
       "    </tr>\n",
       "  </thead>\n",
       "  <tbody>\n",
       "    <tr>\n",
       "      <th>0</th>\n",
       "      <td>4</td>\n",
       "      <td>1</td>\n",
       "      <td>0</td>\n",
       "      <td>0</td>\n",
       "    </tr>\n",
       "    <tr>\n",
       "      <th>1</th>\n",
       "      <td>3</td>\n",
       "      <td>2</td>\n",
       "      <td>1</td>\n",
       "      <td>3</td>\n",
       "    </tr>\n",
       "    <tr>\n",
       "      <th>2</th>\n",
       "      <td>2</td>\n",
       "      <td>3</td>\n",
       "      <td>3</td>\n",
       "      <td>6</td>\n",
       "    </tr>\n",
       "    <tr>\n",
       "      <th>3</th>\n",
       "      <td>5</td>\n",
       "      <td>5</td>\n",
       "      <td>6</td>\n",
       "      <td>11</td>\n",
       "    </tr>\n",
       "    <tr>\n",
       "      <th>4</th>\n",
       "      <td>1</td>\n",
       "      <td>10</td>\n",
       "      <td>11</td>\n",
       "      <td>21</td>\n",
       "    </tr>\n",
       "  </tbody>\n",
       "</table>\n",
       "</div>"
      ],
      "text/plain": [
       "   Process  Process Burst Time  Waiting Time  Turn Around Time\n",
       "0        4                   1             0                 0\n",
       "1        3                   2             1                 3\n",
       "2        2                   3             3                 6\n",
       "3        5                   5             6                11\n",
       "4        1                  10            11                21"
      ]
     },
     "execution_count": 6,
     "metadata": {},
     "output_type": "execute_result"
    }
   ],
   "source": [
    "data, avg_wt, avg_tat = avgTime(processes, n, burst_time) \n",
    "print(\"Average Waiting Time:\",avg_wt,\"\\nAverage Turn Around Time:\",avg_tat)\n",
    "data.head()"
   ]
  },
  {
   "cell_type": "code",
   "execution_count": null,
   "metadata": {},
   "outputs": [],
   "source": []
  }
 ],
 "metadata": {
  "kernelspec": {
   "display_name": "Python 3.7.4 64-bit",
   "language": "python",
   "name": "python37464bitbf4448e654ab4b4a95138a388b3e691a"
  },
  "language_info": {
   "codemirror_mode": {
    "name": "ipython",
    "version": 3
   },
   "file_extension": ".py",
   "mimetype": "text/x-python",
   "name": "python",
   "nbconvert_exporter": "python",
   "pygments_lexer": "ipython3",
   "version": "3.7.4"
  }
 },
 "nbformat": 4,
 "nbformat_minor": 4
}
