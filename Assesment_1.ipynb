{
 "cells": [
  {
   "cell_type": "markdown",
   "metadata": {},
   "source": [
    "# MIS200 Assessment 1 Case Study "
   ]
  },
  {
   "cell_type": "markdown",
   "metadata": {},
   "source": [
    "Q1. Write the code for these two equations.   Let $R = 10000, C = 1e - 6,  V_s = 10$\n",
    "\n",
    "### $$T = RC $$\n",
    "\n",
    "### $$V_c = V_s (1 - 10^{-\\frac{t}{T}})$$\n",
    "\n",
    "The builder will enter t.  "
   ]
  },
  {
   "cell_type": "code",
   "execution_count": 8,
   "metadata": {},
   "outputs": [
    {
     "name": "stdout",
     "output_type": "stream",
     "text": [
      "For the value of t = 10 \n",
      "the value of T is 0.01 \n",
      "the value of V_c is 10.0\n"
     ]
    }
   ],
   "source": [
    "def equation_1(t: float, R = 10000, C = 1e-6, V_s = 10) -> float:\n",
    "    T = R * C\n",
    "    V_c = V_s * (1 - 10**(-t / T))\n",
    "    return T, V_c\n",
    "\n",
    "t = int(input(\"Enter the value of t: \"))\n",
    "T, V_c = equation_1(t)\n",
    "print(\"For the value of t =\", t, \"\\nthe value of T is\", T, \"\\nthe value of V_c is\", V_c)"
   ]
  },
  {
   "cell_type": "markdown",
   "metadata": {},
   "source": []
  },
  {
   "cell_type": "markdown",
   "metadata": {},
   "source": [
    "Q2. Write the code to implement the equation below (ignore the units).\n",
    "Let $G = 6.67 \\times 10^{-11} m^3 kg^{-1} s^{-2}, r = 384e6 m $\n",
    "### $$F_g = G. \\frac{m_1 . m_2}{r^2} $$\n",
    "The user will enter m1 and m2."
   ]
  },
  {
   "cell_type": "code",
   "execution_count": 9,
   "metadata": {},
   "outputs": [
    {
     "name": "stdout",
     "output_type": "stream",
     "text": [
      "For the value of m_1 = 5.97e+24 and the value of m_2 = 7.34e+22 \n",
      "the value of F_g is 1.982137491861979e+20\n"
     ]
    }
   ],
   "source": [
    "def equation_2(m_1: float, m_2: float) -> float:\n",
    "    G = 6.67e-11\n",
    "    r = 384e6\n",
    "    F_g = G * m_1 * m_2 / r**2\n",
    "    return F_g\n",
    "\n",
    "m_1, m_2 = float(input(\"Enter the value of m_1: \")), float(input(\"Enter the value of m_2: \"))\n",
    "print(\"For the value of m_1 =\", m_1, \"and the value of m_2 =\", m_2, \"\\nthe value of F_g is\", equation_2(m_1, m_2))"
   ]
  },
  {
   "cell_type": "markdown",
   "metadata": {},
   "source": []
  },
  {
   "cell_type": "markdown",
   "metadata": {},
   "source": [
    "Q3. Code the equation:\n",
    "\n",
    "### $$ (\\frac{6^{(2+a)}}{4+b}) + (c+180) \\times (\\frac{b}{a}) \\times \\frac{6+\\frac{2.8}{3}-3^{2.5}}{\\frac{4}{3}\\times\\frac{7}{3\\times24}} $$\n",
    "\n",
    "The builder will enter all the parameters."
   ]
  },
  {
   "cell_type": "code",
   "execution_count": 11,
   "metadata": {},
   "outputs": [
    {
     "name": "stdout",
     "output_type": "stream",
     "text": [
      "For the value of a = 1.0 , b = 2.0 and c = 3.0 \n",
      "the value of equation_3 is -194.9836200096164\n"
     ]
    }
   ],
   "source": [
    "def equation_3(a: float, b: float, c: float) -> float:\n",
    "    term1 = 6**(2+a)/(4+b)\n",
    "    term2 = (c+180)*(b/a)*((6+(2.8/3)-3**2.5)/(4/3)*(7/(3*24)))\n",
    "    return term1 + term2\n",
    "\n",
    "a, b, c = float(input(\"Enter the value of a: \")), float(input(\"Enter the value of b: \")), float(input(\"Enter the value of c: \"))\n",
    "\n",
    "print(\"For the value of a =\", a, \", b =\", b, \"and c =\", c, \"\\nthe value of equation_3 is\", equation_3(a, b, c))"
   ]
  },
  {
   "cell_type": "markdown",
   "metadata": {},
   "source": []
  },
  {
   "cell_type": "markdown",
   "metadata": {},
   "source": [
    "Q4. Programs to covert the following units (the builder will enter the first unit in each case):\n",
    "- centimetre to millimetre\n",
    "- feet to meter\n",
    "- kilometres to meter\n",
    "- pound to kilogram\n",
    "- yard to inch"
   ]
  },
  {
   "cell_type": "code",
   "execution_count": 13,
   "metadata": {},
   "outputs": [
    {
     "name": "stdout",
     "output_type": "stream",
     "text": [
      "Refer the following table for the conversion of the number to the desired type:\n",
      "1. Centimetre to millimetre\n",
      "2. Feet to meter\n",
      "3. Kilometres to meter\n",
      "4. Pound to kilogram\n",
      "5. Yard to inch\n",
      "For the value of n = 10.0 and type = 1  conversion\n",
      "the value of the converted number is 100.0\n"
     ]
    }
   ],
   "source": [
    "def convert(n: float, type: int) -> float:\n",
    "    \"\"\"_summary_\n",
    "    Converts the input number to the desired type.\n",
    "    type = 1: centimetre to millimetre\n",
    "    type = 2: feet to meter\n",
    "    type = 3: kilometres to meter\n",
    "    type = 4: pound to kilogram\n",
    "    type = 5: yard to inch\n",
    "    \n",
    "    Args:\n",
    "        n (float): Number to convert\n",
    "        type (int): Type of conversion desired as per given values\n",
    "\n",
    "    Returns:\n",
    "        float: Number converted to the desired type\n",
    "    \"\"\"\n",
    "    if type == 1:\n",
    "        return n * 10\n",
    "    elif type == 2:\n",
    "        return n * 0.3048\n",
    "    elif type == 3:\n",
    "        return n * 1000\n",
    "    elif type == 4:\n",
    "        return n * 0.453592\n",
    "    elif type == 5:\n",
    "        return n * 36\n",
    "    else:\n",
    "        return \"Invalid type\"\n",
    "\n",
    "print(\"Refer the following table for the conversion of the number to the desired type:\"\n",
    "      \"\\n1. Centimetre to millimetre\"\n",
    "      \"\\n2. Feet to meter\"\n",
    "      \"\\n3. Kilometres to meter\"\n",
    "      \"\\n4. Pound to kilogram\"\n",
    "      \"\\n5. Yard to inch\")\n",
    "n, type = float(input(\"Enter the value of n: \")), int(input(\"Enter the value of type: \"))\n",
    "print(\"For the value of n =\", n, \"and type =\", type, \" conversion\\nthe value of the converted number is\", convert(n, type))"
   ]
  },
  {
   "cell_type": "code",
   "execution_count": null,
   "metadata": {},
   "outputs": [],
   "source": []
  }
 ],
 "metadata": {
  "interpreter": {
   "hash": "4ee915b603d310a130ac14c22c060351c31c866e2af29f7ee966b3d55f25a8c2"
  },
  "kernelspec": {
   "display_name": "Python 3.8.8 ('base')",
   "language": "python",
   "name": "python3"
  },
  "language_info": {
   "codemirror_mode": {
    "name": "ipython",
    "version": 3
   },
   "file_extension": ".py",
   "mimetype": "text/x-python",
   "name": "python",
   "nbconvert_exporter": "python",
   "pygments_lexer": "ipython3",
   "version": "3.8.8"
  },
  "orig_nbformat": 4
 },
 "nbformat": 4,
 "nbformat_minor": 2
}
